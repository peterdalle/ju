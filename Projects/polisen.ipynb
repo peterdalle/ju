{
 "cells": [
  {
   "cell_type": "markdown",
   "metadata": {},
   "source": [
    "# Web scraping av polisens händelser\n",
    "\n",
    "En vanlig organisation som ingår i journalisternas nyhetsnät är polisen. På polisens hemsida finns en lista över händelser i Sverige (https://polisen.se/aktuellt/polisens-nyheter/). Vi kan förvisso leta bland händelserna manuellt efter något som intresserar oss, men varför inte göra det automatiskt med hjälp av Python?\n",
    "\n",
    "Vi kan lösa det på två sätt:\n",
    "\n",
    "1. **Skrapa RSS-flödet**. Vi kan skrapa polisens RSS-flöde med händelser (se dme här: https://polisen.se/aktuellt/rss/). Detta är lättast eftersom [RSS](https://sv.wikipedia.org/wiki/RSS) är en standard för att utbyta information på webbplatser. Då kan vi också använda koden till alla webbplatser som har RSS-flöde. Men polisens RSS-flöde är begränsat, och alla händelser som finns på hemsidan finns inte med i RSS-flödet.\n",
    "2. **Skrapa webbsidan**. Vi kan skrapa webbsidans HTML-kod. Då kan vi få ned allt som finns på hemsidan. Men om polisen ändrar sin hemsida så kan vårt program slutera fungera.\n",
    "\n",
    "Vilken ska vi välja? Vi testar båda!\n",
    "\n",
    "\n",
    "## Först, installera bibliotek"
   ]
  },
  {
   "cell_type": "code",
   "execution_count": null,
   "metadata": {
    "scrolled": true
   },
   "outputs": [],
   "source": [
    "# Först måste vi dock installera de bibliotek vi\n",
    "# ska använda. Ändra till pip3 om pip inte fungerar.\n",
    "!pip install BeautifulSoup4\n",
    "!pip install lxml\n",
    "!pip install requests"
   ]
  },
  {
   "cell_type": "markdown",
   "metadata": {},
   "source": [
    "## 1. Skrapa RSS-flödet\n",
    "\n",
    "Se alla RSS-flöden som polisen har: https://polisen.se/aktuellt/rss/\n",
    "\n",
    "Vi använder detta RSS-flöde (nyheter i hela landet): https://polisen.se/aktuellt/rss/hela-landet/nyheter-hela-landet/"
   ]
  },
  {
   "cell_type": "code",
   "execution_count": 103,
   "metadata": {},
   "outputs": [],
   "source": [
    "# Importera bibliotek.\n",
    "from urllib import request\n",
    "from lxml import html\n",
    "from bs4 import BeautifulSoup\n",
    "import ssl\n",
    "\n",
    "def scrapewebpage(url):\n",
    "    # Öppna URL och hämta HTML.\n",
    "    UseSSL = True  # Om du får SSLError, ändra detta till False.\n",
    "    if UseSSL:\n",
    "        web = request.urlopen(url)\n",
    "    else:\n",
    "        web = request.urlopen(url, context=ssl._create_unverified_context())\n",
    "\n",
    "    # Kontrollera att inga fel uppstod när URL öppnades.\n",
    "    if web.getcode() == 200:\n",
    "        return(web.read())\n",
    "    else:\n",
    "        print(\"Error %s reading %s\" % str(web.getcode()), url)\n",
    "\n",
    "# Hjälpfunktion som skrapar webbsidor och gör en soppa av allt ihop.\n",
    "def makesoup(url):\n",
    "    html = scrapewebpage(url)\n",
    "    return(BeautifulSoup(html, \"lxml-xml\"))"
   ]
  },
  {
   "cell_type": "code",
   "execution_count": 104,
   "metadata": {},
   "outputs": [],
   "source": [
    "# Läs in RSS-flödet och spara det i variablen rss_events.'\n",
    "rss_events = makesoup(\"https://polisen.se/aktuellt/rss/hela-landet/handelser-i-hela-landet/\")\n",
    "\n",
    "# Du kan också testa med ett annat RSS-flöde:\n",
    "#rss_events = makesoup(\"https://www.svd.se/feed/articles.rss\")\n",
    "\n",
    "# Ta ut alla <item> från RSS-flödet.\n",
    "rss_items = rss_events.find_all(\"item\")"
   ]
  },
  {
   "cell_type": "code",
   "execution_count": 105,
   "metadata": {},
   "outputs": [
    {
     "name": "stdout",
     "output_type": "stream",
     "text": [
      "Hittade 200 händelser.\n"
     ]
    }
   ],
   "source": [
    "# Hur många händelser hittade vi?\n",
    "print(\"Hittade \" + str(len(rss_items)) + \" händelser.\")"
   ]
  },
  {
   "cell_type": "code",
   "execution_count": 106,
   "metadata": {
    "scrolled": true
   },
   "outputs": [
    {
     "name": "stdout",
     "output_type": "stream",
     "text": [
      "15 oktober 14.45, Trafikolycka, Malmö\n",
      "15 oktober 14.21, Trafikolycka, Eskilstuna\n",
      "15 oktober 13.11, Trafikolycka, personskada, Lysekil\n",
      "15 oktober 13.45, Trafikolycka, Malmö\n",
      "15 oktober 13.14, Rattfylleri, Borlänge\n",
      "15 oktober 13.39, Trafikolycka, Östersund\n",
      "15 oktober 13.35, Mord/dråp, Gävle\n",
      "15 oktober 13.13, Brand, Halmstad\n",
      "15 oktober 12.36, Rattfylleri, Södertälje\n",
      "15 oktober 13.17, Brand, Kramfors\n"
     ]
    }
   ],
   "source": [
    "# Visa senaste 10 händelserna. Plocka bort [0:10] för att visa alla.\n",
    "for item in rss_items[0:10]:\n",
    "    title = item.find(\"title\").get_text()\n",
    "    print(title)"
   ]
  },
  {
   "cell_type": "code",
   "execution_count": 107,
   "metadata": {},
   "outputs": [
    {
     "name": "stdout",
     "output_type": "stream",
     "text": [
      "15 oktober 11.48, Trafikolycka, personskada, Göteborg: En trafikolycka har inträffat i Tingstadstunneln, södergående körfält\n",
      "\n",
      "15 oktober 08.54, Trafikolycka, personskada, Göteborg: En personbil och en fotgängare har varit involverade i en trafikolycka vid Lindholmen. \n",
      "\n",
      "Hittade 2 resultat.\n"
     ]
    }
   ],
   "source": [
    "# En variabel som visar antalet sökresultat.\n",
    "search_results = 0\n",
    "\n",
    "# Visa bara trafikolyckor.\n",
    "for item in rss_items:\n",
    "    title = item.find(\"title\").get_text()\n",
    "    description = item.find(\"description\").get_text()\n",
    "\n",
    "    # Gör om texten till gemener, sök därefter efter trafikolyckor i Göteborg.\n",
    "    if title.lower().find(\"trafikolycka\") > -1 and title.lower().find(\"göteborg\") > -1:\n",
    "        search_results = search_results + 1\n",
    "        print(title + \": \" + description)\n",
    "        print()\n",
    "\n",
    "print(\"Hittade {0} resultat.\".format(search_results))"
   ]
  },
  {
   "cell_type": "code",
   "execution_count": 108,
   "metadata": {
    "scrolled": false
   },
   "outputs": [
    {
     "name": "stdout",
     "output_type": "stream",
     "text": [
      "15 oktober 11.48 Göteborg, Trafikolycka: En trafikolycka har inträffat i Tingstadstunneln, södergående körfält\n",
      "15 oktober 08.54 Göteborg, Trafikolycka: En personbil och en fotgängare har varit involverade i en trafikolycka vid Lindholmen. \n",
      "15 oktober 07.46 Borås, Trafikolycka: En personbil och en cyklist har kolliderat vid Villastaden. \n",
      "14 oktober 15.02 Borås, Knivlagen: En kniv tas i beslag på Norrby Långgata.\n",
      "14 oktober 06.53 Göteborg, Brand: Ett radhus brinner på Tanneskärsgatan.\n"
     ]
    }
   ],
   "source": [
    "# Gå igenom varje händelse och plocka ut datum, händelse och stad.\n",
    "for item in rss_items:\n",
    "    title = item.find(\"title\").get_text()             # Titel på händelsen\n",
    "    link = item.find(\"link\").get_text()               # Länk till händelsen på polisens hemsida\n",
    "    description = item.find(\"description\").get_text() # Beskrivning av händelsen\n",
    "    \n",
    "    # Titlarna är skrivna i formatet \"2017-11-07 20:40, Trafikolycka, Göteborg\".\n",
    "    # Då kan vi dela upp titeln i tre delar genom komma-tecknet\n",
    "    # och på så vis plocka ut datum, händelse och ort.\n",
    "    title_parts = title.split(\",\")                         # Dela sträng vid varje komma\n",
    "    title_date = title_parts[0].strip()                    # Datum\n",
    "    title_event = title_parts[1].strip()                   # Händelse\n",
    "    title_city = title_parts[len(title_parts) - 1].strip() # Stad\n",
    "    \n",
    "    # Plocka ut händelser från Göteborg och Borås.\n",
    "    if title_city in [\"Göteborg\", \"Borås\"]:\n",
    "        print(title_date + \" \" + title_city + \", \" + title_event + \": \" + description)"
   ]
  },
  {
   "cell_type": "markdown",
   "metadata": {},
   "source": [
    "## 2. Skrapa webbsidan\n",
    "\n",
    "Vi kan skrapa HTML-koden från webbsidan https://polisen.se/aktuellt/polisens-nyheter/.\n",
    "\n",
    "Här har vi dock ett problem eftersom polisens hemsida är ganska komplext uppbyggd med både \n",
    "\n",
    "- statisk HTML-kod (det man ser på sidan när man högerklickar och väljer \"Visa källa\").\n",
    "- dynamisk HTML-kod (det som dyker upp på sidan genom att ett JavaScript-program hämtar information från ett [API](https://en.wikipedia.org/wiki/Application_programming_interface)). Det är detta som ändrar sidans [DOM](https://en.wikipedia.org/wiki/Document_Object_Model).\n",
    "\n",
    "Men även om det är krångligare för oss att förstå hur sidan är uppbyggd, blir det faktiskt enklare att hämta informationen! Tack vare att polisen använder ett API som hämtar och skickar [JSON](https://en.wikipedia.org/wiki/JSON)-data blir det också enklare för oss att hämta informationen!"
   ]
  },
  {
   "cell_type": "code",
   "execution_count": 109,
   "metadata": {
    "scrolled": true
   },
   "outputs": [],
   "source": [
    "# Importera bibliotek vi behöver.\n",
    "import requests\n",
    "import time\n",
    "from lxml import html\n",
    "from bs4 import BeautifulSoup\n",
    "import ssl\n",
    "\n",
    "# Skapa funktion för att kommunicera med polisens API.\n",
    "def get_police_json(pageindex=1, location=0):\n",
    "    \"\"\" Anropar polisens händelser-API och returnerar JSON. \n",
    "    \n",
    "    location:\n",
    "        0 = Hela landet\n",
    "        181 = Göteborg\n",
    "    \"\"\"\n",
    "    url = \"https://polisen.se/api/listingservice/items\"\n",
    "    web = requests.post(url, data = {\"ContentId\": \"7069\",\n",
    "                                    \"PageIndex\": pageindex,\n",
    "                                    \"IncludeChildIndexes\": False,\n",
    "                                    \"FilterOnSelectedLocation\": (location > 0),\n",
    "                                    \"SelectedLocationId\": location,\n",
    "                                    \"GeoAreaType\": 1,\n",
    "                                    \"Filter\": None, \n",
    "                                    \"Latitude\": 0,\n",
    "                                    \"Longitude\":0,\n",
    "                                    \"ListItemType\":0,\n",
    "                                    \"PropertyIds\": []\n",
    "                                   })\n",
    "    json_content = web.json()\n",
    "    return(json_content)\n",
    "\n",
    "# Skapa funktion som gör det enkelt att hämta många händelser från polisen.\n",
    "def get_events(maxpages=10, location=0):\n",
    "    \"\"\" Hämtar händelser från polisen och returnerar lista. \"\"\"\n",
    "    l = []\n",
    "    for pageindex in range(1, maxpages + 1):\n",
    "        print(\"Hämtar händelser från sida {0}...\".format(pageindex))\n",
    "        json = get_police_json(pageindex, location)\n",
    "        for event in json[\"List\"]:\n",
    "            l.append(event)\n",
    "        if not json[\"HasMore\"]:\n",
    "            print(\"Slut på händelser.\")\n",
    "            break\n",
    "        time.sleep(1.0)\n",
    "    return(l)"
   ]
  },
  {
   "cell_type": "code",
   "execution_count": 110,
   "metadata": {},
   "outputs": [
    {
     "name": "stdout",
     "output_type": "stream",
     "text": [
      "Hämtar händelser från sida 1...\n",
      "Hämtar händelser från sida 2...\n",
      "Hämtar händelser från sida 3...\n",
      "Hämtar händelser från sida 4...\n",
      "Hämtar händelser från sida 5...\n"
     ]
    }
   ],
   "source": [
    "# Hämta polisens händelser.\n",
    "events = get_events(maxpages=5)"
   ]
  },
  {
   "cell_type": "code",
   "execution_count": 111,
   "metadata": {
    "scrolled": true
   },
   "outputs": [
    {
     "data": {
      "text/plain": [
       "125"
      ]
     },
     "execution_count": 111,
     "metadata": {},
     "output_type": "execute_result"
    }
   ],
   "source": [
    "# Hur många händelser hämtade vi?\n",
    "len(events)"
   ]
  },
  {
   "cell_type": "code",
   "execution_count": 112,
   "metadata": {
    "scrolled": false
   },
   "outputs": [
    {
     "data": {
      "text/plain": [
       "{'HasImage': False,\n",
       " 'HasTeaserText': False,\n",
       " 'Headline': '15 oktober 14.45, Trafikolycka, Malmö',\n",
       " 'ImageDescription': '',\n",
       " 'ImageUrl': '',\n",
       " 'IsUpdated': False,\n",
       " 'ListItemType': 4,\n",
       " 'Location': '',\n",
       " 'MainContent': '<p>Polis och ambulans skickas till Industrigatan / Nobelv&auml;gen d&auml;r en person enligt larm ska vara p&aring;k&ouml;rd.</p>',\n",
       " 'Organisation': None,\n",
       " 'Preamble': 'Påkörd person, Industrigatan / Nobelvägen. ',\n",
       " 'PublishedDate': '15 oktober 14.52',\n",
       " 'RelatedPages': [],\n",
       " 'SharedLinksData': {'SharePageByEmailUrl': 'mailto:?subject=Tips%20om%20information%20p%C3%A5%20polisens%20webbplats&body=Hej%2C%0A%0Ajag%20vill%20tipsa%20dig%20om%20en%20sida%20p%C3%A5%20polisen.se%20som%20jag%20tror%20kan%20vara%20intressant%20f%C3%B6r%20dig.%0A%0ATitta%20p%C3%A5%20den%20h%C3%A4r%20sidan%3A%0A%0Ahttps%3A%2F%2Fpolisen.se%2Faktuellt%2Fhandelser%2F2018%2Foktober%2F15%2F15-oktober-14.45-trafikolycka-malmo%2F',\n",
       "  'SharePageOnFaceBookUrl': 'https://facebook.com/sharer.php?u=https%3A%2F%2Fpolisen.se%2Faktuellt%2Fhandelser%2F2018%2Foktober%2F15%2F15-oktober-14.45-trafikolycka-malmo%2F',\n",
       "  'SharePageOnTwitterUrl': 'https://twitter.com/intent/tweet?url=https%3A%2F%2Fpolisen.se%2Faktuellt%2Fhandelser%2F2018%2Foktober%2F15%2F15-oktober-14.45-trafikolycka-malmo%2F'},\n",
       " 'TextBy': 'Anna Göransson',\n",
       " 'UpdatedDate': '',\n",
       " 'Url': '/aktuellt/handelser/2018/oktober/15/15-oktober-14.45-trafikolycka-malmo/'}"
      ]
     },
     "execution_count": 112,
     "metadata": {},
     "output_type": "execute_result"
    }
   ],
   "source": [
    "# Visa den senaste händelsen.\n",
    "# Notera att Python börjar räkna från 0.\n",
    "events[0]"
   ]
  },
  {
   "cell_type": "code",
   "execution_count": 113,
   "metadata": {},
   "outputs": [
    {
     "name": "stdout",
     "output_type": "stream",
     "text": [
      "15 oktober 14.45, Trafikolycka, Malmö\n",
      "15 oktober 14.21, Trafikolycka, Eskilstuna\n",
      "15 oktober 13.11, Trafikolycka, personskada, Lysekil\n",
      "15 oktober 13.45, Trafikolycka, Malmö\n",
      "15 oktober 13.14, Rattfylleri, Borlänge\n",
      "15 oktober 13.39, Trafikolycka, Östersund\n",
      "15 oktober 13.35, Mord/dråp, Gävle\n",
      "15 oktober 13.13, Brand, Halmstad\n",
      "Polisstationen i Vivalla öppnar 16 oktober\n",
      "15 oktober 12.36, Rattfylleri, Södertälje\n",
      "15 oktober 13.17, Brand, Kramfors\n",
      "15 oktober 12.24, Trafikolycka, Kristinehamn\n",
      "15 oktober 13.06, Trafikolycka, vilt, Pajala\n",
      "15 oktober 13.00, Mord/dråp, försök, Umeå\n",
      "15 oktober 11.45, Stöld/inbrott, Krokom\n",
      "15 oktober 11.48, Trafikolycka, personskada, Göteborg\n",
      "15 oktober 12.15, Stöld/inbrott, Uppsala\n",
      "15 oktober 12.16, Rattfylleri, Karlstad\n",
      "15 oktober 12.39, Stöld, Enköping\n",
      "15 oktober 12.07, Misshandel, Helsingborg\n",
      "15 oktober 12.37, Inbrott, Karlstad\n",
      "15 oktober 11.10, Trafikolycka, vilt, Skellefteå\n",
      "15 oktober 12.35, Trafikolycka, Eskilstuna\n",
      "15 oktober 09.30, Stöld/inbrott, Arboga\n",
      "15 oktober 10.28, Rattfylleri, Västerås\n",
      "15 oktober 10.15, Stöld/inbrott, Gävle\n",
      "15 oktober 11.37, Trafikolycka, singel, Mark\n",
      "15 oktober 10.20, Rån, Botkyrka\n",
      "15 oktober 11.14, Arbetsplatsolycka, Markaryd\n",
      "15 oktober 11.27, Trafikolycka, Malmö\n",
      "15 oktober 11.36, Inbrott, Örebro län\n",
      "15 oktober 11.35, Inbrott, Karlstad\n",
      "15 oktober 09.44, Rattfylleri, Lycksele\n",
      "15 oktober 11.22, Misshandel, Nyköping\n",
      "En person gripen misstänkt för hot mot grupp via sociala medier\n",
      "15 oktober 09.56, Trafikolycka, Kumla\n",
      "15 oktober 11.13, Inbrott, Avesta\n",
      "15 oktober 10.52, Trafikbrott, Kramfors\n",
      "15 oktober 10.18, Motorfordon, anträffat stulet, Sundsvall\n",
      "15 oktober 11.12, Trafikolycka, personskada, Västerås\n",
      "15 oktober 10.01, Trafikkontroll, Umeå\n",
      "15 oktober 10.47, Vapenlagen, Örebro\n",
      "15 oktober 09.03, Övrigt, Malmö\n",
      "15 oktober 09.18, Motorfordon, anträffat stulet, Östersund\n",
      "15 oktober 09.11, Rattfylleri, Enköping\n",
      "15 oktober 09.16, Trafikbrott, Umeå\n",
      "15 oktober 10.03, Stöld/inbrott, Tierp\n",
      "15 oktober 09.46, Trafikbrott, Gällivare\n",
      "15 oktober 10.30, Sammanfattning förmiddag, Västernorrland län\n",
      "15 oktober 09.00, Trafikolycka, vilt, Arvika\n",
      "15 oktober 10.13, Inbrott, Rättvik\n",
      "15 oktober 07.20, Trafikbrott, Sollentuna\n",
      "15 oktober 08.15, Stöld/inbrott, Uppsala\n",
      "15 oktober 08.54, Trafikolycka, personskada, Göteborg\n",
      "15 oktober 06.24, Brand, Jokkmokk\n",
      "15 oktober 09.14, Trafikolycka, Linköping\n",
      "15 oktober 07.45, Stöld/inbrott, Enköping\n",
      "15 oktober 08.04, Trafikolycka, Sölvesborg\n",
      "14 oktober 21.58, Mord/dråp, försök, Stockholms län\n",
      "15 oktober 07.51, Motorfordon, anträffat stulet, Skellefteå\n",
      "15 oktober 08.06, Trafikolycka, vilt, Härjedalen\n",
      "15 oktober 07.47, Trafikkontroll, Östersund\n",
      "15 oktober 07.22, Trafikkontroll, Umeå\n",
      "15 oktober 07.36, Stöld, Östersund\n",
      "Ring 114 14 så hämtar vi\n",
      "15 oktober 08.04, Trafikolycka, Luleå\n",
      "15 oktober 07.46, Trafikolycka, personskada, Borås\n",
      "15 oktober 07.48, Sammanfattning natt, Jämtlands län\n",
      "15 oktober 07.13, Stöld/inbrott, Västerås\n",
      "15 oktober 00.21, Stöld, Stockholms län\n",
      "15 oktober 06.03, Stöld, Västerås\n",
      "15 oktober 02.26, Brand, Österåker\n",
      "15 oktober 07.17, Stöld/inbrott, Uppsala\n",
      "15 oktober 07.31, Sammanfattning natt, Västernorrland län\n",
      "15 oktober 03.21, Misshandel, grov, Stockholm\n",
      "15 oktober 07.24, Stöld/inbrott, Gävle\n",
      "15 oktober 07.26, Inbrott, Örebro\n",
      "15 oktober 05.18, Stöld/inbrott, Stockholm\n",
      "15 oktober 07.18, Sammanfattning natt, Västerbottens län\n",
      "15 oktober 07.20, Sammanfattning natt, Östergötlands län\n",
      "15 oktober 07.10, Trafikolycka, personskada, Ovanåker\n",
      "15 oktober 07.15, Sammanfattning natt, Norrbottens län\n",
      "15 oktober 06.46, Trafikolycka, personskada, Uppsala\n",
      "15 oktober 06.46, Sammanfattning natt, Södermanlands län\n",
      "15 oktober 06.41, Trafikolycka, Östra göinge\n",
      "15 oktober 05.19, Brand, Helsingborg\n",
      "15 oktober 03.26, Brand, Malmö\n",
      "15 oktober 02.37, Stöld/inbrott, Olofström\n",
      "15 oktober 01.37, Brand, Oskarshamn\n",
      "15 oktober 06.20, Sammanfattning natt, Jönköpings län\n",
      "15 oktober 03.56, Brand, Karlshamn\n",
      "15 oktober 06.33, Rattfylleri, Svalöv\n",
      "15 oktober 01.01, Narkotikabrott, Växjö\n",
      "15 oktober 03.31, Brand, Uppsala\n",
      "14 oktober 19.09, Trafikolycka, personskada, Arboga\n",
      "15 oktober 05.50, Sammanfattning kväll och natt, Västra götalands län\n",
      "15 oktober 05.49, Sammanfattning kväll och natt, Hallands län\n",
      "15 oktober 05.10, Försvunnen person, Umeå\n",
      "15 oktober 02.48, Mord/dråp, Eskilstuna\n",
      "15 oktober 02.07, Detonation, Trosa\n",
      "14 oktober 21.55, Stöld/inbrott, Lund\n",
      "14 oktober 19.42, Brand, Malmö\n",
      "14 oktober 18.27, Misshandel, grov, Nybro\n",
      "14 oktober 20.38, Olaga hot, Boden\n",
      "14 oktober 19.39, Trafikolycka, singel, Oskarshamn\n",
      "14 oktober 19.48, Brand, Burlöv\n",
      "14 oktober 19.27, Bråk, Malmö\n",
      "14 oktober 19.56, Trafikolycka, singel, Ljungby\n",
      "14 oktober 18.14, Stöld, Södermanlands län\n",
      "14 oktober 17.02, Brand, Malmö\n",
      "14 oktober 16.39, Fylleri/LOB, Stockholm\n",
      "14 oktober 16.38, Trafikolycka, Hörby\n",
      "14 oktober 16.23, Trafikolycka, singel, Hässleholm\n",
      "14 oktober 16.14, Trafikolycka, Karlskrona\n",
      "14 oktober 15.55, Övrigt, Hallands län\n",
      "14 oktober 15.54, Övrigt, Västra götalands län\n",
      "14 oktober 15.02, Knivlagen, Borås\n",
      "14 oktober 14.08, Rattfylleri, Gotland\n",
      "14 oktober 15.03, Övrigt, Södermanlands län\n",
      "14 oktober 15.02, Övrigt, Östergötlands län\n",
      "14 oktober 15.01, Övrigt, Jönköpings län\n",
      "14 oktober 14.55, Övrigt, Jämtlands län\n",
      "14 oktober 14.54, Övrigt, Västernorrland län\n",
      "14 oktober 14.53, Övrigt, Västerbottens län\n",
      "14 oktober 14.53, Övrigt, Norrbottens län\n"
     ]
    }
   ],
   "source": [
    "# Eftersom datan är sparad i en lista, kan vi använda\n",
    "# en for-loop för att hämta varje händelse i listan.\n",
    "for e in events:\n",
    "    print(e[\"Headline\"])"
   ]
  },
  {
   "cell_type": "code",
   "execution_count": 114,
   "metadata": {},
   "outputs": [],
   "source": [
    "# Vi kan skapa en enkel sökfunktion som\n",
    "# letar igenom alla händelser vi samlat in. \n",
    "def search(word, events):\n",
    "    for e in events:\n",
    "        if e[\"Headline\"].lower().find(word.lower()) > 0:\n",
    "            print(e[\"Headline\"])\n",
    "            #print(l[\"Preamble\"])\n",
    "            #print()"
   ]
  },
  {
   "cell_type": "code",
   "execution_count": 115,
   "metadata": {},
   "outputs": [
    {
     "name": "stdout",
     "output_type": "stream",
     "text": [
      "15 oktober 11.48, Trafikolycka, personskada, Göteborg\n",
      "15 oktober 08.54, Trafikolycka, personskada, Göteborg\n"
     ]
    }
   ],
   "source": [
    "# Sök igenom händelserna efter texten \"Göteborg\".\n",
    "search(\"göteborg\", events)"
   ]
  },
  {
   "cell_type": "code",
   "execution_count": 116,
   "metadata": {
    "scrolled": true
   },
   "outputs": [
    {
     "name": "stdout",
     "output_type": "stream",
     "text": [
      "15 oktober 13.35, Mord/dråp, Gävle\n",
      "15 oktober 13.00, Mord/dråp, försök, Umeå\n",
      "14 oktober 21.58, Mord/dråp, försök, Stockholms län\n",
      "15 oktober 02.48, Mord/dråp, Eskilstuna\n"
     ]
    }
   ],
   "source": [
    "# Sök igenom händelserna efter texten \"mord\".\n",
    "search(\"mord\", events)"
   ]
  }
 ],
 "metadata": {
  "kernelspec": {
   "display_name": "Python 3",
   "language": "python",
   "name": "python3"
  },
  "language_info": {
   "codemirror_mode": {
    "name": "ipython",
    "version": 3
   },
   "file_extension": ".py",
   "mimetype": "text/x-python",
   "name": "python",
   "nbconvert_exporter": "python",
   "pygments_lexer": "ipython3",
   "version": "3.5.4"
  }
 },
 "nbformat": 4,
 "nbformat_minor": 2
}
