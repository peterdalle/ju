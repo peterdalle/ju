{
 "cells": [
  {
   "cell_type": "markdown",
   "metadata": {},
   "source": [
    "# Web scraping av polisens händelser\n",
    "\n",
    "En vanlig organisation som ingår i journalisternas nyhetsnät är polisen. På polisens hemsida finns en lista över händelser i Sverige (https://polisen.se/aktuellt/polisens-nyheter/). Vi kan förvisso leta bland händelserna manuellt efter något som intresserar oss, men varför inte göra det automatiskt med hjälp av Python?\n",
    "\n",
    "Vi kan lösa det på två sätt:\n",
    "\n",
    "1. **Skrapa RSS-flödet**. Vi kan skrapa polisens RSS-flöde med händelser (se dme här: https://polisen.se/aktuellt/rss/). Detta är lättast eftersom [RSS](https://sv.wikipedia.org/wiki/RSS) är en standard för att utbyta information på webbplatser. Då kan vi också använda koden till alla webbplatser som har RSS-flöde. Men polisens RSS-flöde är begränsat, och alla händelser som finns på hemsidan finns inte med i RSS-flödet.\n",
    "2. **Skrapa webbsidan**. Vi kan skrapa webbsidans HTML-kod. Då kan vi få ned allt som finns på hemsidan. Men om polisen ändrar sin hemsida så kan vårt program slutera fungera.\n",
    "\n",
    "Vilken ska vi välja? Vi testar båda!\n",
    "\n",
    "\n",
    "## Först, installera bibliotek"
   ]
  },
  {
   "cell_type": "code",
   "execution_count": 1,
   "metadata": {
    "scrolled": true
   },
   "outputs": [
    {
     "name": "stdout",
     "output_type": "stream",
     "text": [
      "Requirement already satisfied: BeautifulSoup4 in c:\\users\\peter\\anaconda3\\lib\\site-packages (4.6.0)\n",
      "Requirement already satisfied: lxml in c:\\users\\peter\\anaconda3\\lib\\site-packages (4.1.1)\n"
     ]
    }
   ],
   "source": [
    "# Först måste vi dock installera de bibliotek vi\n",
    "# ska använda. Ändra till pip3 om pip inte fungerar.\n",
    "!pip install BeautifulSoup4\n",
    "!pip install lxml"
   ]
  },
  {
   "cell_type": "markdown",
   "metadata": {},
   "source": [
    "## 1. Skrapa RSS-flödet\n",
    "\n",
    "Se alla RSS-flöden som polisen har: https://polisen.se/aktuellt/rss/\n",
    "\n",
    "Vi använder detta RSS-flöde (nyheter i hela landet): https://polisen.se/aktuellt/rss/hela-landet/nyheter-hela-landet/"
   ]
  },
  {
   "cell_type": "code",
   "execution_count": 2,
   "metadata": {},
   "outputs": [],
   "source": [
    "import urllib.request\n",
    "from lxml import html\n",
    "from bs4 import BeautifulSoup \n",
    "\n",
    "# Funktion för stt skrapa HTML från webbsida.\n",
    "def scrapewebpage(url):\n",
    "\t# Öppna URL och hämta HTML.\n",
    "\tweb = urllib.request.urlopen(url)\n",
    "\n",
    "\t# Kontrollera att inga fel uppstod när URL öppnades.\n",
    "\tif (web.getcode() == 200):\n",
    "\t\thtml = web.read()\n",
    "\t\treturn(html)\n",
    "\telse:\n",
    "\t\tprint(\"Error %s reading %s\" % str(web.getcode()), url)\n",
    "\n",
    "# Hjälpfunktion som skrapar webbsidor och gör en soppa av allt ihop.\n",
    "def makesoup(url):\n",
    "\thtml = scrapewebpage(url)\n",
    "\treturn(BeautifulSoup(html, \"lxml\"))"
   ]
  },
  {
   "cell_type": "code",
   "execution_count": 3,
   "metadata": {},
   "outputs": [],
   "source": [
    "# Läs in RSS-flödet och spara det i variablen rss_events.'\n",
    "rss_events = makesoup(\"https://polisen.se/aktuellt/rss/hela-landet/handelser-i-hela-landet/\")\n",
    "\n",
    "# Du kan också testa med ett annat RSS-flöde:\n",
    "#rss_events = makesoup(\"https://www.svd.se/feed/articles.rss\")\n",
    "\n",
    "# Ta ut alla <item> från RSS-flödet.\n",
    "rss_items = rss_events.find_all(\"item\")"
   ]
  },
  {
   "cell_type": "code",
   "execution_count": 4,
   "metadata": {},
   "outputs": [
    {
     "name": "stdout",
     "output_type": "stream",
     "text": [
      "Hittade 200 händelser.\n"
     ]
    }
   ],
   "source": [
    "# Hur många händelser hittade vi?\n",
    "print(\"Hittade \" + str(len(rss_items)) + \" händelser.\")"
   ]
  },
  {
   "cell_type": "code",
   "execution_count": 5,
   "metadata": {
    "scrolled": true
   },
   "outputs": [
    {
     "name": "stdout",
     "output_type": "stream",
     "text": [
      "19 oktober 14.09, Skadegörelse, Gävle\n",
      "19 oktober 11.38, Farligt föremål, misstänkt, Lidingö\n",
      "19 oktober 13.40, Misshandel, grov, Växjö\n",
      "19 oktober 13.46, Trafikolycka, vilt, Ragunda\n",
      "19 oktober 13.18, Trafikbrott, Forshaga\n",
      "19 oktober 12.58, Trafikolycka, Oskarshamn\n",
      "19 oktober 10.33, Stöld, Ovanåker\n",
      "19 oktober 12.12, Mord/dråp, försök, Avesta\n",
      "19 oktober 10.09, Stöld, Östhammar\n",
      "19 oktober 11.41, Fylleri/LOB, Sundsvall\n"
     ]
    }
   ],
   "source": [
    "# Visa senaste 10 händelserna. Plocka bort [0:10] för att visa alla.\n",
    "for item in rss_items[0:10]:\n",
    "    title = item.find(\"title\").get_text()\n",
    "    print(title)"
   ]
  },
  {
   "cell_type": "code",
   "execution_count": 6,
   "metadata": {},
   "outputs": [
    {
     "name": "stdout",
     "output_type": "stream",
     "text": [
      "19 oktober 11.43, Trafikolycka, personskada, Göteborg: På Önnereds Hamnväg är en bilist och en mopedist inblandade i en olycka.\n",
      "\n",
      "19 oktober 06.33, Trafikolycka, personskada, Göteborg: På Bredfjällsgatan har två bilar kolliderat.\n",
      "\n",
      "18 oktober 18.41, Trafikolycka, Göteborg: Kollision på E6 vid Örgrytemotet\n",
      "\n",
      "18 oktober 16.40, Trafikolycka, Göteborg: Kollission mellan spårvagn och mopedist i Majorna\n",
      "\n",
      "Hittade 4 resultat.\n"
     ]
    }
   ],
   "source": [
    "# En variabel som visar antalet sökresultat.\n",
    "search_results = 0\n",
    "\n",
    "# Visa bara trafikolyckor.\n",
    "for item in rss_items:\n",
    "    title = item.find(\"title\").get_text()\n",
    "    description = item.find(\"description\").get_text()\n",
    "\n",
    "    # Gör om texten till gemener, sök därefter efter trafikolyckor i Göteborg.\n",
    "    if title.lower().find(\"trafikolycka\") > -1 and title.lower().find(\"göteborg\") > -1:\n",
    "        search_results = search_results + 1\n",
    "        print(title + \": \" + description)\n",
    "        print()\n",
    "\n",
    "print(\"Hittade {0} resultat.\".format(search_results))"
   ]
  },
  {
   "cell_type": "code",
   "execution_count": 7,
   "metadata": {
    "scrolled": false
   },
   "outputs": [
    {
     "name": "stdout",
     "output_type": "stream",
     "text": [
      "19 oktober 11.43 Göteborg, Trafikolycka: På Önnereds Hamnväg är en bilist och en mopedist inblandade i en olycka.\n",
      "18 oktober 21.28 Göteborg, Mord/dråp: På Köpingsgatan har någon skjutit mot en bostad.\n",
      "19 oktober 06.33 Göteborg, Trafikolycka: På Bredfjällsgatan har två bilar kolliderat.\n",
      "18 oktober 18.41 Göteborg, Trafikolycka: Kollision på E6 vid Örgrytemotet\n",
      "18 oktober 16.40 Göteborg, Trafikolycka: Kollission mellan spårvagn och mopedist i Majorna\n"
     ]
    }
   ],
   "source": [
    "# Gå igenom varje händelse och plocka ut datum, händelse och stad.\n",
    "for item in rss_items:\n",
    "    title = item.find(\"title\").get_text()             # Titel på händelsen\n",
    "    link = item.find(\"link\").get_text()               # Länk till händelsen på polisens hemsida\n",
    "    description = item.find(\"description\").get_text() # Beskrivning av händelsen\n",
    "    \n",
    "    # Titlarna är skrivna i formatet \"2017-11-07 20:40, Trafikolycka, Göteborg\".\n",
    "    # Då kan vi dela upp titeln i tre delar genom komma-tecknet\n",
    "    # och på så vis plocka ut datum, händelse och ort.\n",
    "    title_parts = title.split(\",\")                         # Dela sträng vid varje komma\n",
    "    title_date = title_parts[0].strip()                    # Datum\n",
    "    title_event = title_parts[1].strip()                   # Händelse\n",
    "    title_city = title_parts[len(title_parts) - 1].strip() # Stad\n",
    "    \n",
    "    # Plocka ut händelser från Göteborg och Borås.\n",
    "    if title_city in [\"Göteborg\", \"Borås\"]:\n",
    "        print(title_date + \" \" + title_city + \", \" + title_event + \": \" + description)"
   ]
  },
  {
   "cell_type": "markdown",
   "metadata": {},
   "source": [
    "## 2. Skrapa webbsidan\n",
    "\n",
    "Vi kan skrapa HTML-koden från webbsidan https://polisen.se/aktuellt/polisens-nyheter/.\n",
    "\n",
    "Här har vi dock ett problem eftersom polisens hemsida är ganska komplext uppbyggd med både \n",
    "\n",
    "- statisk HTML-kod (det man ser på sidan när man högerklickar och väljer \"Visa källa\").\n",
    "- dynamisk HTML-kod (det som dyker upp på sidan genom att ett JavaScript-program hämtar information från ett [API](https://en.wikipedia.org/wiki/Application_programming_interface)). Det är detta som ändrar sidans [DOM](https://en.wikipedia.org/wiki/Document_Object_Model).\n",
    "\n",
    "Men även om det är krångligare för oss att förstå hur sidan är uppbyggd, blir det faktiskt enklare att hämta informationen! Tack vare att polisen använder ett API som hämtar och skickar [JSON](https://en.wikipedia.org/wiki/JSON)-data blir det också enklare för oss att hämta informationen!"
   ]
  },
  {
   "cell_type": "code",
   "execution_count": 8,
   "metadata": {
    "scrolled": true
   },
   "outputs": [],
   "source": [
    "# Importera bibliotek vi behöver.\n",
    "import requests\n",
    "import time\n",
    "from lxml import html\n",
    "from bs4 import BeautifulSoup\n",
    "import ssl\n",
    "\n",
    "# Skapa funktion för att kommunicera med polisens API.\n",
    "def get_police_json(pageindex=1, location=0):\n",
    "    \"\"\" Anropar polisens händelser-API och returnerar JSON. \n",
    "    \n",
    "    location:\n",
    "        0 = Hela landet\n",
    "        181 = Göteborg\n",
    "    \"\"\"\n",
    "    url = \"https://polisen.se/api/listingservice/items\"\n",
    "    web = requests.post(url, data = {\"ContentId\": \"7069\",\n",
    "                                    \"PageIndex\": pageindex,\n",
    "                                    \"IncludeChildIndexes\": False,\n",
    "                                    \"FilterOnSelectedLocation\": (location > 0),\n",
    "                                    \"SelectedLocationId\": location,\n",
    "                                    \"GeoAreaType\": 1,\n",
    "                                    \"Filter\": None, \n",
    "                                    \"Latitude\": 0,\n",
    "                                    \"Longitude\":0,\n",
    "                                    \"ListItemType\":0,\n",
    "                                    \"PropertyIds\": []\n",
    "                                   })\n",
    "    json_content = web.json()\n",
    "    return(json_content)\n",
    "\n",
    "# Skapa funktion som gör det enkelt att hämta många händelser från polisen.\n",
    "def get_events(maxpages=10, location=0):\n",
    "    \"\"\" Hämtar händelser från polisen och returnerar lista. \"\"\"\n",
    "    l = []\n",
    "    for pageindex in range(1, maxpages + 1):\n",
    "        print(\"Hämtar händelser från sida {0}...\".format(pageindex))\n",
    "        json = get_police_json(pageindex, location)\n",
    "        for event in json[\"List\"]:\n",
    "            l.append(event)\n",
    "        if not json[\"HasMore\"]:\n",
    "            print(\"Slut på händelser.\")\n",
    "            break\n",
    "        time.sleep(1.0)\n",
    "    return(l)"
   ]
  },
  {
   "cell_type": "code",
   "execution_count": 9,
   "metadata": {},
   "outputs": [
    {
     "name": "stdout",
     "output_type": "stream",
     "text": [
      "Hämtar händelser från sida 1...\n",
      "Hämtar händelser från sida 2...\n",
      "Hämtar händelser från sida 3...\n",
      "Hämtar händelser från sida 4...\n",
      "Hämtar händelser från sida 5...\n",
      "Hämtar händelser från sida 6...\n",
      "Hämtar händelser från sida 7...\n",
      "Hämtar händelser från sida 8...\n",
      "Hämtar händelser från sida 9...\n",
      "Hämtar händelser från sida 10...\n"
     ]
    }
   ],
   "source": [
    "# Hämta polisens händelser från deras hemsida.\n",
    "events = get_events(maxpages=10)"
   ]
  },
  {
   "cell_type": "code",
   "execution_count": 10,
   "metadata": {
    "scrolled": true
   },
   "outputs": [
    {
     "data": {
      "text/plain": [
       "250"
      ]
     },
     "execution_count": 10,
     "metadata": {},
     "output_type": "execute_result"
    }
   ],
   "source": [
    "# Hur många händelser hämtade vi?\n",
    "len(events)"
   ]
  },
  {
   "cell_type": "code",
   "execution_count": 11,
   "metadata": {
    "scrolled": false
   },
   "outputs": [
    {
     "data": {
      "text/plain": [
       "{'HasImage': False,\n",
       " 'HasTeaserText': False,\n",
       " 'Headline': '19 oktober 14.09, Skadegörelse, Gävle',\n",
       " 'ImageDescription': '',\n",
       " 'ImageUrl': '',\n",
       " 'IsUpdated': False,\n",
       " 'ListItemType': 4,\n",
       " 'Location': '',\n",
       " 'MainContent': '<p>En inringare uppr&ouml;rs &ouml;ver p&aring;g&aring;ende klotter p&aring;&nbsp;ett konstverk&nbsp;i Kvarnparken i G&auml;vle. <br />Under samtalet med RLC-operat&ouml;ren erinrar sig inringaren pl&ouml;tsligt att konstverket &auml;r ett s k klotterplank som det &auml;r till&aring;tet att klottra p&aring;. Inringaren &auml;r &auml;nd&aring; stark motst&aring;ndare till det p&aring;g&aring;ende klottrandet som av allt att d&ouml;ma verkar utf&ouml;ras av en skolklass i regnkl&auml;der.</p>',\n",
       " 'Organisation': None,\n",
       " 'Preamble': 'Det klottras på ett klotterplank.',\n",
       " 'PublishedDate': '19 oktober 14.26',\n",
       " 'RelatedPages': [],\n",
       " 'SharedLinksData': {'SharePageByEmailUrl': 'mailto:?subject=Tips%20om%20information%20p%C3%A5%20polisens%20webbplats&body=Hej%2C%0A%0Ajag%20vill%20tipsa%20dig%20om%20en%20sida%20p%C3%A5%20polisen.se%20som%20jag%20tror%20kan%20vara%20intressant%20f%C3%B6r%20dig.%0A%0ATitta%20p%C3%A5%20den%20h%C3%A4r%20sidan%3A%0A%0Ahttps%3A%2F%2Fpolisen.se%2Faktuellt%2Fhandelser%2F2018%2Foktober%2F19%2F19-oktober-14.09-skadegorelse-gavle%2F',\n",
       "  'SharePageOnFaceBookUrl': 'https://facebook.com/sharer.php?u=https%3A%2F%2Fpolisen.se%2Faktuellt%2Fhandelser%2F2018%2Foktober%2F19%2F19-oktober-14.09-skadegorelse-gavle%2F',\n",
       "  'SharePageOnTwitterUrl': 'https://twitter.com/intent/tweet?url=https%3A%2F%2Fpolisen.se%2Faktuellt%2Fhandelser%2F2018%2Foktober%2F19%2F19-oktober-14.09-skadegorelse-gavle%2F'},\n",
       " 'TextBy': 'Daniel Wikdahl/presstalesperson RLC Mitt',\n",
       " 'UpdatedDate': '',\n",
       " 'Url': '/aktuellt/handelser/2018/oktober/19/19-oktober-14.09-skadegorelse-gavle/'}"
      ]
     },
     "execution_count": 11,
     "metadata": {},
     "output_type": "execute_result"
    }
   ],
   "source": [
    "# Visa den senaste händelsen i listan.\n",
    "# Notera att Python börjar räkna från 0.\n",
    "events[0]"
   ]
  },
  {
   "cell_type": "code",
   "execution_count": 12,
   "metadata": {},
   "outputs": [
    {
     "name": "stdout",
     "output_type": "stream",
     "text": [
      "19 oktober 14.09, Skadegörelse, Gävle\n",
      "19 oktober 11.38, Farligt föremål, misstänkt, Lidingö\n",
      "19 oktober 13.40, Misshandel, grov, Växjö\n",
      "19 oktober 13.46, Trafikolycka, vilt, Ragunda\n",
      "19 oktober 13.18, Trafikbrott, Forshaga\n",
      "19 oktober 12.58, Trafikolycka, Oskarshamn\n",
      "19 oktober 10.33, Stöld, Ovanåker\n",
      "19 oktober 12.12, Mord/dråp, försök, Avesta\n",
      "19 oktober 10.09, Stöld, Östhammar\n",
      "19 oktober 11.41, Fylleri/LOB, Sundsvall\n",
      "19 oktober 12.39, Trafikolycka, Nybro\n",
      "19 oktober 11.23, Stöld, Västerås\n",
      "19 oktober 12.12, Rån, Emmaboda\n",
      "Fem frågor till polisen: ”Min mamma är otroligt rädd för att bli id-kapad”\n",
      "19 oktober 10.52, Stöld, Örnsköldsvik\n",
      "19 oktober 08.16, Mord/dråp, Tanum\n",
      "19 oktober 12.16, Trafikkontroll, Boden\n",
      "19 oktober 11.43, Trafikolycka, personskada, Göteborg\n",
      "19 oktober 11.58, Trafikkontroll, Lycksele\n",
      "19 oktober 11.06, Skadegörelse, Hedemora\n",
      "19 oktober 11.37, Arbetsplatsolycka, Örebro\n",
      "19 oktober 11.20, Stöld, Örebro\n",
      "19 oktober 11.39, Trafikolycka, Tranås\n",
      "19 oktober 10.06, Stöld/inbrott, Arboga\n",
      "19 oktober 11.09, Trafikolycka, Falun\n",
      "19 oktober 08.44, Bedrägeri, Huddinge\n",
      "18 oktober 21.28, Mord/dråp, försök, Göteborg\n",
      "19 oktober 08.33, Knivlagen, Stockholm\n",
      "19 oktober 10.38, Trafikbrott, Älvdalen\n",
      "19 oktober 10.27, Inbrott, Nässjö\n",
      "19 oktober 10.25, Alkohollagen, Lycksele\n",
      "19 oktober 10.22, Arbetsplatsolycka, Ljusnarsberg\n",
      "19 oktober 10.14, Trafikkontroll, Berg\n",
      "19 oktober 09.18, Arbetsplatsolycka, Tjörn\n",
      "19 oktober 09.43, Kontroll person/fordon, Umeå\n",
      "19 oktober 09.03, Trafikolycka, smitning från, Skellefteå\n",
      "19 oktober 09.25, Trafikkontroll, Piteå\n",
      "19 oktober 05.32, Mord/dråp, försök, Stockholms län\n",
      "19 oktober 08.00, Trafikkontroll, Arvidsjaur\n",
      "19 oktober 06.45, Trafikolycka, vilt, Örnsköldsvik\n",
      "19 oktober 06.27, Räddningsinsats, Stockholm\n",
      "19 oktober 08.30, Trafikolycka, personskada, Härnösand\n",
      "19 oktober 08.56, Trafikkontroll, Östersund\n",
      "19 oktober 09.06, Trafikolycka, singel, Lomma\n",
      "19 oktober 07.43, Trafikkontroll, Umeå\n",
      "19 oktober 08.48, Sammanfattning natt, Norrbottens län\n",
      "19 oktober 08.34, Sammanfattning natt, Västerbottens län\n",
      "19 oktober 01.01, Skottlossning, misstänkt, Västerås\n",
      "19 oktober 07.05, Stöld/inbrott, Uppsala\n",
      "19 oktober 07.58, Trafikolycka, personskada, Falköping\n",
      "19 oktober 08.12, Sammanfattning natt, Västernorrland län\n",
      "19 oktober 08.05, Trafikolycka, Hässleholm\n",
      "18 oktober 22.31, Sedlighetsbrott, Uppsala\n",
      "19 oktober 02.03, Rån, försök, Trelleborg\n",
      "19 oktober 03.48, Motorfordon, stöld, Stockholms län\n",
      "19 oktober 07.50, Stöld/inbrott, Hallsberg\n",
      "19 oktober 07.56, Trafikolycka, Örebro\n",
      "19 oktober 00.41, Misshandel, Stockholms län\n",
      "19 oktober 00.01, Trafikbrott, Gävle\n",
      "19 oktober 07.25, Sammanfattning natt, Jämtlands län\n",
      "19 oktober 01.47, Stöld/inbrott, Surahammar\n",
      "19 oktober 07.26, Sammanfattning natt, Värmlands län\n",
      "19 oktober 01.29, Rån, Uppsala\n",
      "19 oktober 01.15, Skadegörelse, Uppsala\n",
      "19 oktober 01.00, Stöld/inbrott, Älvkarleby\n",
      "19 oktober 00.29, Brand, Älvkarleby\n",
      "18 oktober 22.04, Rån övrigt, Västmanlands län\n",
      "18 oktober 22.04, Stöld, Gävle\n",
      "19 oktober 03.20, Brand, Kalmar\n",
      "19 oktober 07.17, Sammanfattning natt, Örebro län\n",
      "19 oktober 00.40, Rattfylleri, Oskarshamn\n",
      "19 oktober 07.03, Sammanfattning natt, Dalarnas län\n",
      "19 oktober 07.03, Trafikolycka, Motala\n",
      "19 oktober 06.12, Trafikolycka, vilt, Katrineholm\n",
      "19 oktober 06.33, Trafikolycka, personskada, Göteborg\n",
      "19 oktober 06.00, Sammanfattning kväll och natt, Hallands län\n",
      "19 oktober 05.54, Sammanfattning kväll och natt, Västra götalands län\n",
      "19 oktober 04.57, Sammanfattning natt, Jönköpings län\n",
      "19 oktober 04.56, Sammanfattning natt, Östergötlands län\n",
      "19 oktober 04.55, Sammanfattning natt, Södermanlands län\n",
      "18 oktober 22.17, Trafikolycka, singel, Karlskrona\n",
      "18 oktober 22.01, Övrigt, Norrbottens län\n",
      "18 oktober 22.01, Övrigt, Västerbottens län\n",
      "18 oktober 22.01, Övrigt, Västernorrland län\n",
      "18 oktober 22.01, Övrigt, Jämtlands län\n",
      "18 oktober 22.00, Övrigt, Jönköpings län\n",
      "18 oktober 22.00, Övrigt, Östergötlands län\n",
      "18 oktober 21.59, Övrigt, Södermanlands län\n",
      "18 oktober 21.55, Övrigt, Västra götalands län\n",
      "18 oktober 21.55, Övrigt, Hallands län\n",
      "18 oktober 19.45, Djur, Luleå\n",
      "18 oktober 20.52, Stöld, Varberg\n",
      "18 oktober 21.11, Misshandel, Haparanda\n",
      "18 oktober 21.15, Trafikkontroll, Värmlands län\n",
      "18 oktober 21.14, Trafikkontroll, Dalarnas län\n",
      "18 oktober 21.11, Trafikkontroll, Örebro län\n",
      "18 oktober 21.06, Trafikolycka, Kiruna\n",
      "18 oktober 20.19, Skadegörelse, Kil\n",
      "18 oktober 19.51, Rattfylleri, Nacka\n",
      "18 oktober 18.43, Våld/hot mot tjänsteman, Lindesberg\n",
      "18 oktober 19.28, Rattfylleri, Borlänge\n",
      "18 oktober 20.30, Brand, Falun\n",
      "18 oktober 19.41, Trafikolycka, Sundsvall\n",
      "18 oktober 19.15, Trafikolycka, Söderhamn\n",
      "18 oktober 18.17, Försvunnen person, Askersund\n",
      "18 oktober 19.17, Fylleri/LOB, Östersund\n",
      "18 oktober 17.54, Stöld, Boden\n",
      "18 oktober 18.42, Stöld, Skellefteå\n",
      "18 oktober 19.44, Rattfylleri, Falkenberg\n",
      "18 oktober 19.15, Djur, Skellefteå\n",
      "18 oktober 17.45, Fylleri/LOB, Härnösand\n",
      "18 oktober 16.11, Rattfylleri, Härnösand\n",
      "18 oktober 19.29, Stöld/inbrott, Nässjö\n",
      "18 oktober 19.17, Trafikolycka, Ulricehamn\n",
      "18 oktober 19.19, Trafikolycka, singel, Oskarshamn\n",
      "18 oktober 19.17, Trafikolycka, vilt, Hultsfred\n",
      "18 oktober 16.11, Efterlyst person, Hudiksvall\n",
      "18 oktober 17.54, Trafikolycka, vilt, Bräcke\n",
      "18 oktober 19.01, Trafikolycka, vilt, Norrbottens län\n",
      "18 oktober 18.41, Trafikolycka, Göteborg\n",
      "18 oktober 16.50, Fylleri/LOB, Luleå\n",
      "18 oktober 17.59, Bråk, Umeå\n",
      "18 oktober 18.01, Trafikolycka, personskada, Stockholm\n",
      "18 oktober 18.33, Trafikolycka, Nyköping\n",
      "18 oktober 16.52, Trafikbrott, Kiruna\n",
      "18 oktober 17.10, Brand, Orsa\n",
      "18 oktober 16.28, Rattfylleri, Arjeplog\n",
      "18 oktober 16.23, Rattfylleri, Uppsala\n",
      "18 oktober 18.18, Trafikhinder, Nyköping\n",
      "18 oktober 18.02, Arbetsplatsolycka, Linköping\n",
      "18 oktober 15.20, Motorfordon, stöld, Gävle\n",
      "18 oktober 17.42, Fylleri/LOB, Nyköping\n",
      "18 oktober 17.35, Trafikolycka, Nyköping\n",
      "18 oktober 15.56, Fylleri/LOB, Östersund\n",
      "18 oktober 15.34, Narkotikabrott, Örnsköldsvik\n",
      "18 oktober 15.38, Misshandel, Bollnäs\n",
      "18 oktober 17.14, Trafikolycka, Partille\n",
      "18 oktober 15.30, Rattfylleri, Sollefteå\n",
      "18 oktober 15.19, Stöld, Skellefteå\n",
      "18 oktober 16.39, Trafikolycka, Kumla\n",
      "18 oktober 16.40, Trafikolycka, Göteborg\n",
      "18 oktober 14.25, Sjukdom/olycksfall, Karlstad\n",
      "18 oktober 16.02, Trafikolycka, personskada, Umeå\n",
      "18 oktober 16.29, Våld/hot mot tjänsteman, Jönköping\n",
      "18 oktober 15.14, Arbetsplatsolycka, Timrå\n",
      "18 oktober 16.15, Trafikolycka, Partille\n",
      "18 oktober 15.27, Trafikbrott, Luleå\n",
      "18 oktober 15.34, Brand, Solna\n",
      "18 oktober 16.06, Trafikolycka, Lund\n",
      "18 oktober 15.59, Stöld/inbrott, Boden\n",
      "Hjälp oss att minsta antalet villainbrott!\n",
      "18 oktober 15.06, Trafikbrott, Umeå\n",
      "18 oktober 15.43, Trafikolycka, Ljusnarsberg\n",
      "18 oktober 15.54, Brand, Norrköping\n",
      "18 oktober 14.32, Trafikolycka, personskada, Falkenberg\n",
      "18 oktober 14.56, Trafikbrott, Sundsvall\n",
      "18 oktober 14.03, Rån, försök, Västerås\n",
      "18 oktober 15.20, Rån, Västerås\n",
      "18 oktober 14.43, Trafikolycka, Ovanåker\n",
      "18 oktober 15.09, Trafikolycka, Östra göinge\n",
      "18 oktober 15.26, Uppdatering, Umeå\n",
      "18 oktober 13.52, Trafikbrott, Åre\n",
      "18 oktober 13.44, Arbetsplatsolycka, Mölndal\n",
      "18 oktober 14.40, Trafikbrott, Östersund\n",
      "18 oktober 14.53, Trafikkontroll, Östersund\n",
      "18 oktober 14.28, Våld/hot mot tjänsteman, Örebro\n",
      "18 oktober 14.31, Trafikolycka, Karlstad\n",
      "Polishelikoptern: Så jobbar vi i luften\n",
      "18 oktober 13.53, Stöld/inbrott, Katrineholm\n",
      "18 oktober 13.15, Trafikolycka, Luleå\n",
      "18 oktober 13.41, Trafikkontroll, Umeå\n",
      "18 oktober 13.33, Mord/dråp, försök, Västerås\n",
      "18 oktober 13.26, Skadegörelse, Värnamo\n",
      "18 oktober 12.38, Arbetsplatsolycka, Helsingborg\n",
      "18 oktober 13.07, Övrigt, Hallands län\n",
      "18 oktober 13.05, Övrigt, Västra götalands län\n",
      "18 oktober 12.40, Trafikolycka, Karlskoga\n",
      "18 oktober 12.43, Bråk, Eskilstuna\n",
      "18 oktober 12.28, Sammanfattning förmiddag, Jämtlands län\n",
      "18 oktober 10.13, Rattfylleri, Sandviken\n",
      "18 oktober 09.06, Kontroll person/fordon, Sundsvall\n",
      "18 oktober 12.16, Trafikolycka, Stockholm\n",
      "18 oktober 11.36, Stöld/inbrott, Heby\n",
      "18 oktober 12.03, Trafikkontroll, Västerbottens län\n",
      "18 oktober 11.53, Trafikkontroll, Norrbottens län\n",
      "18 oktober 11.31, Trafikolycka, Vansbro\n",
      "18 oktober 10.53, Mord/dråp, Trelleborg\n",
      "18 oktober 11.16, Trafikolycka, personskada, Arvika\n",
      "18 oktober 11.15, Trafikolycka, Stockholm\n",
      "18 oktober 11.26, Trafikolycka, singel, Västerås\n",
      "18 oktober 10.21, Trafikolycka, personskada, Tidaholm\n",
      "18 oktober 11.22, Motorfordon, anträffat stulet, Norrköping\n",
      "18 oktober 10.53, Rattfylleri, Jönköping\n",
      "18 oktober 10.45, Stöld, försök, Falun\n",
      "18 oktober 03.12, Mord/dråp, Stockholm\n",
      "Kraftig ökning av id-kapningar i region Bergslagen\n",
      "18 oktober 10.12, Trafikkontroll, Åre\n",
      "18 oktober 08.18, Arbetsplatsolycka, Vingåker\n",
      "18 oktober 05.24, Trafikbrott, Ludvika\n",
      "18 oktober 09.33, Övrigt, Dalarnas län\n",
      "18 oktober 06.44, Sedlighetsbrott, Kumla\n",
      "18 oktober 08.37, Sammanfattning natt, Norrbottens län\n",
      "18 oktober 08.34, Sammanfattning natt, Västerbottens län\n",
      "18 oktober 08.24, Sammanfattning natt, Västernorrland län\n",
      "18 oktober 08.21, Sammanfattning natt, Jämtlands län\n",
      "18 oktober 07.56, Stöld/inbrott, Västerås\n",
      "18 oktober 07.48, Trafikolycka, vilt, Värmlands län\n",
      "18 oktober 04.10, Stöld/inbrott, Gävle\n",
      "18 oktober 07.27, Sammanfattning natt, Värmlands län\n",
      "18 oktober 07.20, Trafikolycka, vilt, Värnamo\n",
      "18 oktober 07.18, Sammanfattning natt, Örebro län\n",
      "18 oktober 00.16, Våldtäkt, Bollnäs\n",
      "18 oktober 02.19, Stöld/inbrott, Sollentuna\n",
      "18 oktober 06.56, Trafikolycka, Eskilstuna\n",
      "18 oktober 06.09, Trafikolycka, Kalmar\n",
      "18 oktober 02.49, Stöld, Enköping\n",
      "18 oktober 06.00, Sammanfattning kväll och natt, Hallands län\n",
      "18 oktober 06.00, Sammanfattning kväll och natt, Västra götalands län\n",
      "17 oktober 23.43, Stöld/inbrott, Sandviken\n",
      "17 oktober 23.43, Skadegörelse, Uppsala\n",
      "17 oktober 22.57, Brand, Enköping\n",
      "18 oktober 04.42, Stöld/inbrott, Arboga\n",
      "18 oktober 04.35, Sammanfattning natt, Jönköpings län\n",
      "18 oktober 04.34, Sammanfattning natt, Östergötlands län\n",
      "18 oktober 04.32, Sammanfattning natt, Södermanlands län\n",
      "17 oktober 21.15, Övrigt, Sollefteå\n",
      "17 oktober 23.56, Stöld/inbrott, Surahammar\n",
      "17 oktober 23.46, Stöld/inbrott, Surahammar\n",
      "17 oktober 23.58, Mord/dråp, försök, Östersund\n",
      "17 oktober 21.46, Trafikolycka, Lund\n",
      "17 oktober 21.52, Övrigt, Jönköpings län\n",
      "17 oktober 21.52, Övrigt, Östergötlands län\n",
      "17 oktober 21.52, Övrigt, Södermanlands län\n",
      "17 oktober 21.45, Övrigt, Hallands län\n",
      "17 oktober 21.45, Övrigt, Västra götalands län\n",
      "17 oktober 21.36, Trafikolycka, Söderköping\n",
      "17 oktober 21.17, Skadegörelse, Borlänge\n",
      "17 oktober 20.39, Trafikolycka, personskada, Sandviken\n",
      "17 oktober 21.13, Trafikkontroll, Dalarnas län\n",
      "17 oktober 21.11, Trafikkontroll, Värmlands län\n",
      "17 oktober 21.08, Trafikkontroll, Örebro län\n",
      "17 oktober 21.04, Rattfylleri, Skövde\n",
      "17 oktober 20.49, Trafikolycka, Mullsjö\n",
      "17 oktober 20.47, Trafikolycka, Växjö\n",
      "17 oktober 20.01, Rån, Ängelholm\n",
      "17 oktober 20.29, Trafikolycka, Borås\n",
      "17 oktober 17.45, Bedrägeri, Leksand\n",
      "17 oktober 19.56, Trafikolycka, Flen\n",
      "17 oktober 18.38, Våld/hot mot tjänsteman, Uppsala\n",
      "17 oktober 19.43, Inbrott, försök, Borlänge\n"
     ]
    }
   ],
   "source": [
    "# Eftersom datan är sparad i en lista, kan vi använda\n",
    "# en for-loop för att hämta varje händelse i listan.\n",
    "for e in events:\n",
    "    print(e[\"Headline\"])"
   ]
  },
  {
   "cell_type": "code",
   "execution_count": 13,
   "metadata": {},
   "outputs": [],
   "source": [
    "# Vi kan skapa en enkel sökfunktion som\n",
    "# letar igenom alla händelser vi samlat in. \n",
    "def search(word, events):\n",
    "    for e in events:\n",
    "        if e[\"Headline\"].lower().find(word.lower()) > 0:\n",
    "            print(e[\"Headline\"])"
   ]
  },
  {
   "cell_type": "code",
   "execution_count": 14,
   "metadata": {},
   "outputs": [
    {
     "name": "stdout",
     "output_type": "stream",
     "text": [
      "19 oktober 11.43, Trafikolycka, personskada, Göteborg\n",
      "18 oktober 21.28, Mord/dråp, försök, Göteborg\n",
      "19 oktober 06.33, Trafikolycka, personskada, Göteborg\n",
      "18 oktober 18.41, Trafikolycka, Göteborg\n",
      "18 oktober 16.40, Trafikolycka, Göteborg\n"
     ]
    }
   ],
   "source": [
    "# Sök igenom händelserna efter texten \"Göteborg\".\n",
    "search(\"göteborg\", events)"
   ]
  },
  {
   "cell_type": "code",
   "execution_count": 15,
   "metadata": {
    "scrolled": false
   },
   "outputs": [
    {
     "name": "stdout",
     "output_type": "stream",
     "text": [
      "19 oktober 12.12, Mord/dråp, försök, Avesta\n",
      "19 oktober 08.16, Mord/dråp, Tanum\n",
      "18 oktober 21.28, Mord/dråp, försök, Göteborg\n",
      "19 oktober 05.32, Mord/dråp, försök, Stockholms län\n",
      "18 oktober 13.33, Mord/dråp, försök, Västerås\n",
      "18 oktober 10.53, Mord/dråp, Trelleborg\n",
      "18 oktober 03.12, Mord/dråp, Stockholm\n",
      "17 oktober 23.58, Mord/dråp, försök, Östersund\n"
     ]
    }
   ],
   "source": [
    "# Sök igenom händelserna efter texten \"mord\".\n",
    "search(\"mord\", events)"
   ]
  },
  {
   "cell_type": "markdown",
   "metadata": {},
   "source": [
    "# Nyhetsrobot – trafikolycka\n",
    "\n",
    "Utifrån polisens händelser kan vi nu skapa en nyhetsrobot.\n",
    "\n",
    "Roboten ska skriva om trafikolyckor i Göteborg senaste tiden."
   ]
  },
  {
   "cell_type": "code",
   "execution_count": 16,
   "metadata": {},
   "outputs": [],
   "source": [
    "# Gör en sökfunktion som returnerar en lista.\n",
    "def get_search_result(word, events):\n",
    "    l = []\n",
    "    for e in events:\n",
    "        if e[\"Headline\"].lower().find(word.lower()) > 0:\n",
    "            l.append(e)\n",
    "    return(l)\n",
    "            \n",
    "# Ta ut allt som har med Göteborg att göra och spara i gbg_list.\n",
    "gbg_list = get_search_result(\"göteborg\", events)\n",
    "\n",
    "# Ta sedan ut allt som har med trafikolyckor att göra (från gbg_list) och spara i trafik_list.\n",
    "trafik_list = get_search_result(\"trafikolycka\", gbg_list)"
   ]
  },
  {
   "cell_type": "markdown",
   "metadata": {},
   "source": [
    "## Alla trafikolyckor\n",
    "\n",
    "Skriv en text som visar en lista med alla trafikolyckor som skrapats."
   ]
  },
  {
   "cell_type": "code",
   "execution_count": 17,
   "metadata": {
    "scrolled": false
   },
   "outputs": [
    {
     "name": "stdout",
     "output_type": "stream",
     "text": [
      "Det har skett 4 trafikolyckor i Göteborg.\n",
      "\n",
      "Olyckorna skedde vid följande datum:\n",
      "- 19 oktober 11.43 På Önnereds Hamnväg är en bilist och en mopedist inblandade i en olycka.\n",
      "- 19 oktober 06.33 På Bredfjällsgatan har två bilar kolliderat.\n",
      "- 18 oktober 18.41 Kollision på E6 vid Örgrytemotet\n",
      "- 18 oktober 16.40 Kollission mellan spårvagn och mopedist i Majorna\n"
     ]
    }
   ],
   "source": [
    "# Skapa variabel med antalet trafikolyckor.\n",
    "antal_trafikolyckor = len(trafik_list)\n",
    "\n",
    "# Logiken för vad nyhetsroboten ska skriva.\n",
    "# Kontrollera först att listan innehåller trafikolyckor.\n",
    "if antal_trafikolyckor > 0:\n",
    "    print(\"Det har skett \" + str(antal_trafikolyckor) + \" trafikolyckor i Göteborg.\")\n",
    "    print()\n",
    "    print(\"Olyckorna skedde vid följande datum:\")\n",
    "    \n",
    "    # Gå igenom varje trafikolycka i listan, rad för rad.\n",
    "    for trafik in trafik_list:\n",
    "        # Plocka ut datumet från rubriken.\n",
    "        # Rubriken är skriven i formatet \"2018-10-19, Händelse, plats\"\n",
    "        # vilket innebär att vi kan dela strängen där komma-tecknet finns\n",
    "        # och sedan plocka ut första delen som innehåller datumet (\"2018-10-19\").\n",
    "        datum = trafik[\"Headline\"]\n",
    "        datum = datum.split(\",\")\n",
    "        datum = datum[0]\n",
    "        \n",
    "        # Plocka ut beskrivningen.\n",
    "        beskrivning = trafik[\"Preamble\"]\n",
    "        \n",
    "        # Skriv en punktlista för varje trafikolycka med datum + beskrivning.\n",
    "        print(\"- \" + datum + \" \" + beskrivning)\n",
    "else:\n",
    "    # Om listan är tom visas detta meddelandet. \n",
    "    print(\"Det har inte skett några trafikolyckor den senaste tiden.\")"
   ]
  },
  {
   "cell_type": "markdown",
   "metadata": {},
   "source": [
    "## Visa senaste trafikolyckan\n",
    "\n",
    "I stället för att visa en lista med alla trafikolyckor kan man visa enbart den senaste trafikolyckan.\n",
    "\n",
    "Det görs genom att ta ut första trafikolyckan från listan med hjälp av `trafik_list[0]`. Kom ihåg att Python börjar räkna från `0`, vilket då representerar det första värdet i listan."
   ]
  },
  {
   "cell_type": "code",
   "execution_count": 19,
   "metadata": {
    "scrolled": false
   },
   "outputs": [
    {
     "name": "stdout",
     "output_type": "stream",
     "text": [
      "Det har skett 4 trafikolyckor i Göteborg.\n",
      "Den senaste olyckan skedde 19 oktober 11.43. På Önnereds Hamnväg är en bilist och en mopedist inblandade i en olycka.\n"
     ]
    }
   ],
   "source": [
    "# Skapa variabel med antalet trafikolyckor.\n",
    "antal_trafikolyckor = len(trafik_list)\n",
    "\n",
    "# Logiken för vad nyhetsroboten ska skriva.\n",
    "# Kontrollera först att listan innehåller trafikolyckor.\n",
    "if antal_trafikolyckor > 0:\n",
    "    print(\"Det har skett \" + str(antal_trafikolyckor) + \" trafikolyckor i Göteborg.\")\n",
    "    \n",
    "    # Ta ut första värdet från listan.\n",
    "    trafik = trafik_list[0]\n",
    "    \n",
    "    # Plocka ut datumet från rubriken.\n",
    "    # Rubriken är skriven i formatet \"2018-10-19, Händelse, plats\"\n",
    "    # vilket innebär att vi kan dela strängen där komma-tecknet finns\n",
    "    # och sedan plocka ut första delen som innehåller datumet (\"2018-10-19\").\n",
    "    datum = trafik[\"Headline\"]\n",
    "    datum = datum.split(\",\")\n",
    "    datum = datum[0]\n",
    "\n",
    "    # Plocka ut beskrivningen.\n",
    "    beskrivning = trafik[\"Preamble\"]\n",
    "    \n",
    "    # Komponera ihop en text.\n",
    "    print(\"Den senaste olyckan skedde \" + datum + \". \" + beskrivning)\n",
    "else:\n",
    "    # Om listan är tom visas detta meddelandet. \n",
    "    print(\"Det har inte skett några trafikolyckor den senaste tiden.\")"
   ]
  }
 ],
 "metadata": {
  "kernelspec": {
   "display_name": "Python 3",
   "language": "python",
   "name": "python3"
  },
  "language_info": {
   "codemirror_mode": {
    "name": "ipython",
    "version": 3
   },
   "file_extension": ".py",
   "mimetype": "text/x-python",
   "name": "python",
   "nbconvert_exporter": "python",
   "pygments_lexer": "ipython3",
   "version": "3.5.4"
  }
 },
 "nbformat": 4,
 "nbformat_minor": 2
}
