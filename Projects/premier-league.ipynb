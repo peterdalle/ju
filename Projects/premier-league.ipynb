{
 "cells": [
  {
   "cell_type": "markdown",
   "metadata": {},
   "source": [
    "# Premier League\n",
    "\n",
    "Skrapa senaste resultaten från Premier League från sidan <https://www.premierleague.com/tables>."
   ]
  },
  {
   "cell_type": "markdown",
   "metadata": {},
   "source": [
    "## Funktioner för web scraping"
   ]
  },
  {
   "cell_type": "code",
   "execution_count": null,
   "metadata": {},
   "outputs": [],
   "source": [
    "# Installera bibliotek.\n",
    "!pip install BeautifulSoup4\n",
    "!pip install lxml"
   ]
  },
  {
   "cell_type": "code",
   "execution_count": 1,
   "metadata": {},
   "outputs": [],
   "source": [
    "import urllib.request\n",
    "from lxml import html\n",
    "from bs4 import BeautifulSoup \n",
    "\n",
    "# Funktion för stt skrapa HTML från webbsida.\n",
    "def scrapewebpage(url):\n",
    "\t# Öppna URL och hämta HTML.\n",
    "\tweb = urllib.request.urlopen(url)\n",
    "\n",
    "\t# Kontrollera att inga fel uppstod när URL öppnades.\n",
    "\tif (web.getcode() == 200):\n",
    "\t\thtml = web.read()\n",
    "\t\treturn(html)\n",
    "\telse:\n",
    "\t\tprint(\"Error %s reading %s\" % str(web.getcode()), url)\n",
    "\n",
    "# Hjälpfunktion som skrapar webbsidor och gör en soppa av allt ihop.\n",
    "def makesoup(url):\n",
    "\thtml = scrapewebpage(url)\n",
    "\treturn(BeautifulSoup(html, \"lxml\"))"
   ]
  },
  {
   "cell_type": "markdown",
   "metadata": {},
   "source": [
    "## Hämta sidan"
   ]
  },
  {
   "cell_type": "code",
   "execution_count": 2,
   "metadata": {},
   "outputs": [],
   "source": [
    "# Hämta Premier League-tabellen.\n",
    "pl = makesoup(\"https://www.premierleague.com/tables\")"
   ]
  },
  {
   "cell_type": "code",
   "execution_count": 3,
   "metadata": {
    "scrolled": true
   },
   "outputs": [],
   "source": [
    "# Hämta bara första fliken (sidan innehåller tre flikar).\n",
    "tab = pl.find(\"div\", \"mainTableTab\")\n",
    "\n",
    "# Skapa tom lista att spara resultaten i.\n",
    "pl_lista = []\n",
    "\n",
    "# Hämta varje tabellrad som finns i fliken.\n",
    "for tr in tab.find_all(\"tr\", \"\"):\n",
    "    team = tr.find(\"span\", \"long\")        # Plocka ut namnet.\n",
    "    if team != None:                      # Kontrollera att namnet inte är tomt.\n",
    "        team = team.get_text()            # Ta bort HTML, behåll bara text.\n",
    "        \n",
    "        points = tr.find(\"td\", \"points\")  # Leta upp <td class=\"points>.\n",
    "        points = points.get_text()        # Ta ut texten från <td class=\"points> ... </td>\n",
    "        points = int(points)              # Gör om text till tal.\n",
    "        \n",
    "        gd = tr.find_all(\"td\")[9]         # Leta upp kolumn 10 (eftersom Python börjar räkna från 0!).\n",
    "        gd = gd.get_text()                # Ta bort HTML, behåll bara text.\n",
    "        gd = gd.strip()                   # Rensa bort mellanslag/nya rader.\n",
    "        gd = int(gd)                      # Gör om text till tal.\n",
    "\n",
    "        # Skapa ett dictionary-objekt. Dictionary är en variabeltyp\n",
    "        # som innehåller så kallade nyckelpar (namn & värde).\n",
    "        # De kan användas för att samla information som hör ihop.\n",
    "        # Läs mer här:\n",
    "        # https://www.pythonforbeginners.com/dictionary/how-to-use-dictionaries-in-python/\n",
    "        dic = { \"team\": team,\n",
    "                \"points\": points,\n",
    "                \"gd\": gd\n",
    "              }\n",
    "        \n",
    "        # Lägger till dictionary sist i listan.\n",
    "        pl_lista.append(dic)"
   ]
  },
  {
   "cell_type": "code",
   "execution_count": 4,
   "metadata": {
    "scrolled": true
   },
   "outputs": [
    {
     "data": {
      "text/plain": [
       "[{'gd': 18, 'points': 20, 'team': 'Manchester City'},\n",
       " {'gd': 13, 'points': 20, 'team': 'Chelsea'},\n",
       " {'gd': 12, 'points': 20, 'team': 'Liverpool'},\n",
       " {'gd': 9, 'points': 18, 'team': 'Arsenal'},\n",
       " {'gd': 8, 'points': 18, 'team': 'Tottenham Hotspur'},\n",
       " {'gd': 4, 'points': 16, 'team': 'Bournemouth'},\n",
       " {'gd': 3, 'points': 15, 'team': 'Wolverhampton Wanderers'},\n",
       " {'gd': -1, 'points': 13, 'team': 'Manchester United'},\n",
       " {'gd': -1, 'points': 13, 'team': 'Watford'},\n",
       " {'gd': 2, 'points': 12, 'team': 'Leicester City'},\n",
       " {'gd': 1, 'points': 12, 'team': 'Everton'},\n",
       " {'gd': -2, 'points': 8, 'team': 'Burnley'},\n",
       " {'gd': -4, 'points': 8, 'team': 'Brighton and Hove Albion'},\n",
       " {'gd': -4, 'points': 7, 'team': 'Crystal Palace'},\n",
       " {'gd': -5, 'points': 7, 'team': 'West Ham United'},\n",
       " {'gd': -8, 'points': 5, 'team': 'Southampton'},\n",
       " {'gd': -12, 'points': 5, 'team': 'Fulham'},\n",
       " {'gd': -13, 'points': 3, 'team': 'Huddersfield Town'},\n",
       " {'gd': -7, 'points': 2, 'team': 'Newcastle United'},\n",
       " {'gd': -13, 'points': 2, 'team': 'Cardiff City'}]"
      ]
     },
     "execution_count": 4,
     "metadata": {},
     "output_type": "execute_result"
    }
   ],
   "source": [
    "# Kolla innehållet i vår lista.\n",
    "pl_lista"
   ]
  },
  {
   "cell_type": "code",
   "execution_count": 5,
   "metadata": {},
   "outputs": [
    {
     "data": {
      "text/plain": [
       "20"
      ]
     },
     "execution_count": 5,
     "metadata": {},
     "output_type": "execute_result"
    }
   ],
   "source": [
    "# Hur många lag innehåller listan vi skapade?\n",
    "len(pl_lista)"
   ]
  },
  {
   "cell_type": "markdown",
   "metadata": {},
   "source": [
    "## Spara listan till en fil\n",
    "\n",
    "En CSV-fil är en komma-separerad lista som kan öppnas i Excel.\n",
    "\n",
    "Fördelen med CSV är att det är ett öppet format som fungerar överallt.\n",
    "\n",
    "Principen med CSV är enkel. Varje lag är på en egen rad, och varje värde separeras med komma-tecken.\n",
    "\n",
    "De tre första raderna i CSV-filen kommer med andra ord se ut så här:\n",
    "\n",
    "```\n",
    "Manchester City,20\n",
    "Chelsea,20\n",
    "Liverpool,20\n",
    "```\n",
    "\n",
    "Och de sparas i en fil som vi döper till **premier-league.csv**."
   ]
  },
  {
   "cell_type": "code",
   "execution_count": 6,
   "metadata": {},
   "outputs": [],
   "source": [
    "# Öppna en fil för skrivning.\n",
    "f = open(\"premier-league.csv\", \"w\") # w = write, a = append, r = read\n",
    "\n",
    "# Gå igenom listan, rad för rad.\n",
    "for dic in pl_lista:\n",
    "    # Skapa en variabel med teamnamn följt av poäng\n",
    "    # genom att hämta värdet från dictionary-objektet.\n",
    "    text = dic[\"team\"] + \",\" + str(dic[\"points\"])\n",
    "    \n",
    "    # Skriv varje team till filen.\n",
    "    # \\n betyder att det ska vara en ny rad.\n",
    "    f.write(text + \"\\n\")\n",
    "\n",
    "# Vi får inte glömma att stänga filen.    \n",
    "f.close()"
   ]
  }
 ],
 "metadata": {
  "kernelspec": {
   "display_name": "Python 3",
   "language": "python",
   "name": "python3"
  },
  "language_info": {
   "codemirror_mode": {
    "name": "ipython",
    "version": 3
   },
   "file_extension": ".py",
   "mimetype": "text/x-python",
   "name": "python",
   "nbconvert_exporter": "python",
   "pygments_lexer": "ipython3",
   "version": "3.5.4"
  }
 },
 "nbformat": 4,
 "nbformat_minor": 2
}
