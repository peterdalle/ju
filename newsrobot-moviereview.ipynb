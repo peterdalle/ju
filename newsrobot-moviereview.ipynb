{
 "cells": [
  {
   "cell_type": "markdown",
   "metadata": {},
   "source": [
    "# Web scraping av IMDb och skriv filmrecension\n",
    "\n",
    "Hämta filmtitel, regissör, betyg, skådespelare med mera från Internet Movie Database och skriv en filmrecension som kan publiceras."
   ]
  },
  {
   "cell_type": "markdown",
   "metadata": {},
   "source": [
    "## Bibliotek och funktioner\n",
    "\n",
    "`BeautifulSoup4` och `lxml` är två biblotek som används för att analysera HTML-sidor. Dessa kan behövas installeras med `pip` om de inte är installerade redan."
   ]
  },
  {
   "cell_type": "code",
   "execution_count": null,
   "metadata": {},
   "outputs": [],
   "source": [
    "# Installera bibliotek.\n",
    "!pip install BeautifulSoup4\n",
    "!pip install lxml"
   ]
  },
  {
   "cell_type": "code",
   "execution_count": null,
   "metadata": {
    "collapsed": true
   },
   "outputs": [],
   "source": [
    "import urllib.request\n",
    "from lxml import html\n",
    "from bs4 import BeautifulSoup \n",
    "\n",
    "# Funktion för stt skrapa HTML från webbsida.\n",
    "def scrapewebpage(url):\n",
    "\t# Öppna URL och hämta HTML.\n",
    "\tweb = urllib.request.urlopen(url)\n",
    "\n",
    "\t# Kontrollera att inga fel uppstod när URL öppnades.\n",
    "\tif (web.getcode() == 200):\n",
    "\t\thtml = web.read()\n",
    "\t\treturn(html)\n",
    "\telse:\n",
    "\t\tprint(\"Error %s reading %s\" % str(web.getcode()), url)\n",
    "\n",
    "# Hjälpfunktion som skrapar webbsidor och gör en soppa av allt ihop.\n",
    "def makesoup(url):\n",
    "\thtml = scrapewebpage(url)\n",
    "\treturn(BeautifulSoup(html, \"lxml\"))"
   ]
  },
  {
   "cell_type": "markdown",
   "metadata": {},
   "source": [
    "## Skrapa Internet Movie Database"
   ]
  },
  {
   "cell_type": "code",
   "execution_count": null,
   "metadata": {
    "collapsed": true
   },
   "outputs": [],
   "source": [
    "# Skrapa Interstellar (2014).\n",
    "soup = makesoup('http://www.imdb.com/title/tt0816692/')"
   ]
  },
  {
   "cell_type": "code",
   "execution_count": null,
   "metadata": {},
   "outputs": [],
   "source": [
    "# Filmens ID.\n",
    "movieid = soup.find(property=\"pageId\").get(\"content\")\n",
    "\n",
    "# Filmens URL.\n",
    "movielink = 'http://www.imdb.com/title/' + movieid + '/'\n",
    "\n",
    "# Titel.\n",
    "title = soup.find(itemprop=\"name\").get_text()\n",
    "title = title.strip() # Ta bort eventuella mellanslag före och efter texten.\n",
    "\n",
    "# Årtal.\n",
    "year = soup.find(id=\"titleYear\").get_text()\n",
    "year = year[1:5] # Ta bort parenteser, så att (2014) blir 2014.\n",
    "year = int(year) # Gör om sträng till tal.\n",
    "\n",
    "# Ta bort årtal från titel.\n",
    "titleclean = title.replace(\"(\" + str(year) + \")\", \"\").strip()\n",
    "\n",
    "# Längd.\n",
    "duration = soup.find(itemprop=\"duration\").get_text()\n",
    "duration = duration.strip() # Ta bort eventuella mellanslag före och efter texten.\n",
    "\n",
    "# Regissör.\n",
    "director = soup.find(itemprop=\"director\").get_text()\n",
    "director = director.strip() # Ta bort eventuella mellanslag före och efter texten.\n",
    "\n",
    "# Betyg.\n",
    "rating = soup.find(itemprop=\"ratingValue\").get_text()\n",
    "rating = float(rating) # Gör om sträng till decimaltal (float).\n",
    "\n",
    "# Skådespelare.\n",
    "actors = []\n",
    "for castlist in soup.find_all(\"table\", \"cast_list\"):\n",
    "\tfor actor in castlist.find_all(itemprop=\"actor\"):\n",
    "\t\tactors.append(actor.get_text().strip())"
   ]
  },
  {
   "cell_type": "markdown",
   "metadata": {},
   "source": [
    "## Presentera resultat"
   ]
  },
  {
   "cell_type": "code",
   "execution_count": null,
   "metadata": {},
   "outputs": [],
   "source": [
    "print(\"Titel: \" + titleclean)\n",
    "print(\"År:    \" + str(year))\n",
    "print(\"Regi:  \" + director)\n",
    "print(\"Längd: \" + duration)\n",
    "print(\"Betyg: \" + str(rating))\n",
    "print(\"Skådespelare:\")\n",
    "for actor in actors:\n",
    "\tprint(\"- \" + actor)"
   ]
  },
  {
   "cell_type": "markdown",
   "metadata": {},
   "source": [
    "## Skapa nyhetstext"
   ]
  },
  {
   "cell_type": "code",
   "execution_count": null,
   "metadata": {},
   "outputs": [],
   "source": [
    "# Ju högre betyg, desto mer \"imponerande\" rubrik.\n",
    "if rating == 10:\n",
    "    newstitle = \"Mästerverket {0} ({1}) av {2}\".format(titleclean, year, director)\n",
    "elif rating < 10 and rating > 8:\n",
    "    newstitle = \"Imponerande {0} ({1}) av {2}\".format(titleclean, year, director)\n",
    "elif rating <= 7 and rating > 4:\n",
    "    newstitle = \"{0} ({1}) av {2}\".format(titleclean, year, director)\n",
    "elif rating < 4:\n",
    "    newstitle = \"Bottennappet {0} ({1}) av {2}\".format(titleclean, year, director)"
   ]
  },
  {
   "cell_type": "code",
   "execution_count": null,
   "metadata": {},
   "outputs": [],
   "source": [
    "# Antal år sedan filmen slöppts på bio.\n",
    "import datetime\n",
    "now = datetime.datetime.now()\n",
    "\n",
    "yearsago = now.year - year"
   ]
  },
  {
   "cell_type": "code",
   "execution_count": null,
   "metadata": {},
   "outputs": [],
   "source": [
    "# Sätt ihop variablerna till brödtexten.\n",
    "newsbody = \"\"\"{0} av {1} producerades för {2} år sedan och har fått {3} i betyg på filmsajten IMDb.\n",
    "\n",
    "I rollerna ser vi bland annat {4} och {5}.\n",
    "\n",
    "{6}\n",
    "\"\"\".format(titleclean, director, yearsago, rating, actors[0], actors[1], movielink)"
   ]
  },
  {
   "cell_type": "markdown",
   "metadata": {},
   "source": [
    "## Visa nyhetstext"
   ]
  },
  {
   "cell_type": "code",
   "execution_count": null,
   "metadata": {},
   "outputs": [],
   "source": [
    "print(newstitle)\n",
    "print(\"-\" * len(newstitle))\n",
    "print(newsbody)"
   ]
  }
 ],
 "metadata": {
  "kernelspec": {
   "display_name": "Python 3",
   "language": "python",
   "name": "python3"
  },
  "language_info": {
   "codemirror_mode": {
    "name": "ipython",
    "version": 3
   },
   "file_extension": ".py",
   "mimetype": "text/x-python",
   "name": "python",
   "nbconvert_exporter": "python",
   "pygments_lexer": "ipython3",
   "version": "3.6.1"
  }
 },
 "nbformat": 4,
 "nbformat_minor": 2
}
