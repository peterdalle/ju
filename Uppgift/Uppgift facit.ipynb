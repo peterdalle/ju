{
 "cells": [
  {
   "cell_type": "markdown",
   "metadata": {},
   "source": [
    "# Lösningar på uppgift"
   ]
  },
  {
   "cell_type": "code",
   "execution_count": 1,
   "metadata": {},
   "outputs": [],
   "source": [
    "# I slutet står det \\ och det innebär bara att man kan skriva\n",
    "# på flera rader så att det blir lättare att läsa på skärmen.\n",
    "text = \"If all mankind minus one, were of one opinion, and only\" \\\n",
    "\" one person were of contrary opinion, mankind would be no more\" \\\n",
    "\" justified in silencing that one person, than he, if he had\" \\\n",
    "\" the power, would be justified in silencing mankind.\""
   ]
  },
  {
   "cell_type": "code",
   "execution_count": 2,
   "metadata": {},
   "outputs": [
    {
     "data": {
      "text/plain": [
       "'If all mankind minus one, were of one opinion, and only one person were of contrary opinion, mankind would be no more justified in silencing that one person, than he, if he had the power, would be justified in silencing mankind.'"
      ]
     },
     "execution_count": 2,
     "metadata": {},
     "output_type": "execute_result"
    }
   ],
   "source": [
    "# Kontrollera innehållet.\n",
    "text"
   ]
  },
  {
   "cell_type": "markdown",
   "metadata": {},
   "source": [
    "## Facit uppgift 1: Räkna ord"
   ]
  },
  {
   "cell_type": "code",
   "execution_count": 3,
   "metadata": {},
   "outputs": [],
   "source": [
    "# Dela textsträngen vid varje mellanslag, spara till variabeln words.\n",
    "words = text.split(\" \")"
   ]
  },
  {
   "cell_type": "code",
   "execution_count": 4,
   "metadata": {
    "scrolled": true
   },
   "outputs": [
    {
     "data": {
      "text/plain": [
       "['If',\n",
       " 'all',\n",
       " 'mankind',\n",
       " 'minus',\n",
       " 'one,',\n",
       " 'were',\n",
       " 'of',\n",
       " 'one',\n",
       " 'opinion,',\n",
       " 'and',\n",
       " 'only',\n",
       " 'one',\n",
       " 'person',\n",
       " 'were',\n",
       " 'of',\n",
       " 'contrary',\n",
       " 'opinion,',\n",
       " 'mankind',\n",
       " 'would',\n",
       " 'be',\n",
       " 'no',\n",
       " 'more',\n",
       " 'justified',\n",
       " 'in',\n",
       " 'silencing',\n",
       " 'that',\n",
       " 'one',\n",
       " 'person,',\n",
       " 'than',\n",
       " 'he,',\n",
       " 'if',\n",
       " 'he',\n",
       " 'had',\n",
       " 'the',\n",
       " 'power,',\n",
       " 'would',\n",
       " 'be',\n",
       " 'justified',\n",
       " 'in',\n",
       " 'silencing',\n",
       " 'mankind.']"
      ]
     },
     "execution_count": 4,
     "metadata": {},
     "output_type": "execute_result"
    }
   ],
   "source": [
    "# Nu är alla ord i en lista, med ett ord per rad.\n",
    "words"
   ]
  },
  {
   "cell_type": "code",
   "execution_count": 5,
   "metadata": {},
   "outputs": [
    {
     "data": {
      "text/plain": [
       "41"
      ]
     },
     "execution_count": 5,
     "metadata": {},
     "output_type": "execute_result"
    }
   ],
   "source": [
    "# Räkna antalet rader i listan.\n",
    "len(words)"
   ]
  },
  {
   "cell_type": "markdown",
   "metadata": {},
   "source": [
    "## Facit uppgift 2: Räkna specifikt ord.\n",
    "\n",
    "Hur många gånger förekommer ordet \"justified\"?"
   ]
  },
  {
   "cell_type": "code",
   "execution_count": 6,
   "metadata": {
    "scrolled": false
   },
   "outputs": [
    {
     "name": "stdout",
     "output_type": "stream",
     "text": [
      "Ordet 'justified' förekommer 2 gånger.\n"
     ]
    }
   ],
   "source": [
    "# Skapa en variabel som håller reda på antalet gånger ordet förekommer.\n",
    "antal = 0   \n",
    "\n",
    "# Gå igenom listan med ord.\n",
    "for word in words:\n",
    "    if word == \"justified\":        # Om ordet är detsamma som \"justified\",\n",
    "        antal = antal + 1          # öka då variabeln \"antal\" med 1.\n",
    "\n",
    "print(\"Ordet 'justified' förekommer \" + str(antal) + \" gånger.\")"
   ]
  },
  {
   "cell_type": "markdown",
   "metadata": {},
   "source": [
    "## Facit uppgift 3: Gör en sökfunktion för ord\n",
    "\n",
    "Gör en sökfunktion för vilket ord som helst (inte bara \"justified\").\n",
    "\n",
    "Det vi ska göra då är helt enkelt att ta koden vi skrev i uppgift 2, men försöka göra den mer generell."
   ]
  },
  {
   "cell_type": "code",
   "execution_count": 7,
   "metadata": {
    "scrolled": true
   },
   "outputs": [],
   "source": [
    "def countwords(word, text):\n",
    "    # Skapa en variabel som håller reda på antalet gånger ordet förekommer.\n",
    "    antal = 0\n",
    "    \n",
    "    # Dela textsträngen vid varje mellanslag, spara till variabeln words.\n",
    "    words = text.split(\" \")  \n",
    "\n",
    "    # Gå igenom listan med ord.\n",
    "    for w in words:\n",
    "        # Om du tittar i uppgift 1 så ser du att vissa ord har ett\n",
    "        # komma-tecken eller punkt i slutet. De måste vi ta bort.\n",
    "        w = w.replace(\",\", \"\")\n",
    "        w = w.replace(\".\", \"\")\n",
    "        \n",
    "        if w.lower() == word.lower(): # Om aktuellt ord är detsamma som sökordet,\n",
    "            antal = antal + 1         # öka då variabeln \"antal\" med 1.\n",
    "            \n",
    "    # Returnera antalet förekomster av ordet.\n",
    "    return(antal)"
   ]
  },
  {
   "cell_type": "code",
   "execution_count": 8,
   "metadata": {},
   "outputs": [
    {
     "data": {
      "text/plain": [
       "3"
      ]
     },
     "execution_count": 8,
     "metadata": {},
     "output_type": "execute_result"
    }
   ],
   "source": [
    "countwords(\"mankind\", text)"
   ]
  },
  {
   "cell_type": "code",
   "execution_count": 9,
   "metadata": {},
   "outputs": [
    {
     "data": {
      "text/plain": [
       "2"
      ]
     },
     "execution_count": 9,
     "metadata": {},
     "output_type": "execute_result"
    }
   ],
   "source": [
    "countwords(\"opinion\", text)"
   ]
  },
  {
   "cell_type": "markdown",
   "metadata": {},
   "source": [
    "# Lättast: Låt Python räkna ord själv\n",
    "\n",
    "När vi har byggt funktionen ovan kan det vara bra att veta att Python faktiskt har en inbyggd funktion för att räkna antalet ord. Funktionen kallas `count()` och används på textsträngar.\n",
    "\n",
    "Vi skriver med andra ord `variabelnamn.count(\"ord att söka efter\")`."
   ]
  },
  {
   "cell_type": "code",
   "execution_count": 10,
   "metadata": {},
   "outputs": [
    {
     "data": {
      "text/plain": [
       "2"
      ]
     },
     "execution_count": 10,
     "metadata": {},
     "output_type": "execute_result"
    }
   ],
   "source": [
    "text.count(\"justified\")"
   ]
  },
  {
   "cell_type": "code",
   "execution_count": 11,
   "metadata": {
    "scrolled": true
   },
   "outputs": [
    {
     "data": {
      "text/plain": [
       "3"
      ]
     },
     "execution_count": 11,
     "metadata": {},
     "output_type": "execute_result"
    }
   ],
   "source": [
    "text.count(\"mankind\")"
   ]
  },
  {
   "cell_type": "code",
   "execution_count": 12,
   "metadata": {},
   "outputs": [
    {
     "data": {
      "text/plain": [
       "2"
      ]
     },
     "execution_count": 12,
     "metadata": {},
     "output_type": "execute_result"
    }
   ],
   "source": [
    "text.count(\"opinion\")"
   ]
  }
 ],
 "metadata": {
  "kernelspec": {
   "display_name": "Python 3",
   "language": "python",
   "name": "python3"
  },
  "language_info": {
   "codemirror_mode": {
    "name": "ipython",
    "version": 3
   },
   "file_extension": ".py",
   "mimetype": "text/x-python",
   "name": "python",
   "nbconvert_exporter": "python",
   "pygments_lexer": "ipython3",
   "version": "3.5.4"
  }
 },
 "nbformat": 4,
 "nbformat_minor": 2
}
