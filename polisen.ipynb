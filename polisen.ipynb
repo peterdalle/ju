{
 "cells": [
  {
   "cell_type": "markdown",
   "metadata": {},
   "source": [
    "# Web scraping av polisens händelser\n",
    "\n",
    "En vanlig organisation som ingår i journalisternas nyhetsnät är polisen. På polisens hemsida finns en [lista över händelser i Sverige](https://polisen.se/Aktuellt/Handelser/Handelser-i-hela-landet/). Vi kan förvisso leta i denna händelselista manuellt efter något som intresserar oss, men varför inte göra det automatiskt med hjälp av Python?\n",
    "\n",
    "Vi kan lösa det på två sätt:\n",
    "\n",
    "1. **Skrapa RSS-flödet**. Vi kan skrapa polisens [RSS-flöde med händelser](https://polisen.se/Aktuellt/Handelser/Handelser-i-hela-landet/?feed=rss). Detta är lättast eftersom [RSS](https://sv.wikipedia.org/wiki/RSS) är en standard för att utbyta information på webbplatser. Då kan vi också använda koden till alla webbplatser som har RSS-flöde. Men polisens RSS-flöde är begränsat, och alla händelser som finns på hemsidan finns inte med i RSS-flödet.\n",
    "2. **Skrapa webbsidan**. Vi kan skrapa webbsidans HTML-kod. Då kan vi få ned allt som finns på hemsidan. Men om polisen ändrar sin hemsida så kan vårt program slutera fungera.\n",
    "\n",
    "Vilken ska vi välja? Vi testar båda!"
   ]
  },
  {
   "cell_type": "markdown",
   "metadata": {},
   "source": [
    "## Importera bibliotek\n",
    "\n",
    "Importera de bibliotek som behövs för att skrapa hemsidor (`BeautifulSoup4` och `lxml`)."
   ]
  },
  {
   "cell_type": "code",
   "execution_count": null,
   "metadata": {
    "collapsed": false
   },
   "outputs": [],
   "source": [
    "# Installera bibliotek. Om det inte fungerar, testa att skriva pip3 i stället.\n",
    "!pip install BeautifulSoup4\n",
    "!pip install lxml"
   ]
  },
  {
   "cell_type": "code",
   "execution_count": 2,
   "metadata": {
    "collapsed": false
   },
   "outputs": [],
   "source": [
    "# Importera bibliotek.\n",
    "from urllib import request\n",
    "from lxml import html\n",
    "from bs4 import BeautifulSoup\n",
    "import ssl\n",
    "\n",
    "def scrapewebpage(url):\n",
    "    # Öppna URL och hämta HTML.\n",
    "    UseSSL = True  # Om du får SSLError, ändra detta till False.\n",
    "    if UseSSL:\n",
    "        web = request.urlopen(url)\n",
    "    else:\n",
    "        web = request.urlopen(url, context=ssl._create_unverified_context())\n",
    "\n",
    "    # Kontrollera att inga fel uppstod när URL öppnades.\n",
    "    if web.getcode() == 200:\n",
    "        return(web.read())\n",
    "    else:\n",
    "        print(\"Error %s reading %s\" % str(web.getcode()), url)\n",
    "\n",
    "# Hjälpfunktion som skrapar webbsidor och gör en soppa av allt ihop.\n",
    "def makesoup(url):\n",
    "    html = scrapewebpage(url)\n",
    "    return(BeautifulSoup(html, \"lxml-xml\"))"
   ]
  },
  {
   "cell_type": "markdown",
   "metadata": {},
   "source": [
    "## 1. Skrapa polisens händelser från RSS-flödet\n",
    "\n",
    "RSS-flöde: https://polisen.se/Aktuellt/Handelser/Handelser-i-hela-landet/?feed=rss"
   ]
  },
  {
   "cell_type": "code",
   "execution_count": 3,
   "metadata": {
    "collapsed": false
   },
   "outputs": [],
   "source": [
    "# Läs in RSS-flödet och spara det i variablen rss_events.'\n",
    "rss_events = makesoup(\"https://polisen.se/Aktuellt/Handelser/Handelser-i-hela-landet/?feed=rss\")\n",
    "\n",
    "# Du kan också testa med ett annat RSS-flöde:\n",
    "#rss_events = makesoup(\"https://www.svd.se/feed/articles.rss\")\n",
    "\n",
    "# Ta ut alla <item> från RSS-flödet.\n",
    "rss_items = rss_events.find_all(\"item\")"
   ]
  },
  {
   "cell_type": "code",
   "execution_count": 4,
   "metadata": {
    "collapsed": false
   },
   "outputs": [
    {
     "name": "stdout",
     "output_type": "stream",
     "text": [
      "Hittade 200 händelser.\n"
     ]
    }
   ],
   "source": [
    "# Hur många händelser hittade vi?\n",
    "print(\"Hittade \" + str(len(rss_items)) + \" händelser.\")"
   ]
  },
  {
   "cell_type": "code",
   "execution_count": 5,
   "metadata": {
    "collapsed": false,
    "scrolled": true
   },
   "outputs": [
    {
     "name": "stdout",
     "output_type": "stream",
     "text": [
      "2017-11-09 13:00, Övrigt, Västra Götaland\n",
      "2017-11-09 12:47, Stöld/inbrott, Söderhamn\n",
      "2017-11-09 12:25, Trafikolycka, Malmö\n",
      "2017-11-09 11:52, Arbetsplatsolycka, Göteborg\n",
      "2017-11-09 11:48, Trafikbrott, Luleå\n",
      "2017-11-09 10:53, Trafikolycka, Kristianstad\n",
      "2017-11-09 10:50, Trafikbrott, Sundsvall\n",
      "2017-11-09 10:42, Rattfylleri, Piteå\n",
      "2017-11-09 10:41, Stöld, Habo\n",
      "2017-11-09 10:23, Brand, Stockholm\n"
     ]
    }
   ],
   "source": [
    "# Visa senaste 10 händelserna. Plocka bort [0:10] för att visa alla.\n",
    "for item in rss_items[0:10]:\n",
    "    title = item.find(\"title\").get_text()\n",
    "    print(title)"
   ]
  },
  {
   "cell_type": "code",
   "execution_count": 6,
   "metadata": {
    "collapsed": false
   },
   "outputs": [
    {
     "name": "stdout",
     "output_type": "stream",
     "text": [
      "2017-11-08 14:07, Trafikolycka, Göteborg: På Backavägen vid Leråkersmotet har två bilar kolliderat.\n",
      "\n",
      "2017-11-08 07:58, Trafikolycka, personskada, Göteborg: På Tunnlandsgatan har en fotgängare blivit påkörd av en bilist.\n",
      "\n",
      "2017-11-08 06:52, Trafikolycka, personskada, Göteborg: På Lillhagsvägen har en man kört omkull med sin moped.\n",
      "\n",
      "2017-11-08 06:40, Trafikolycka, Göteborg: På Rävebergsvägen har två bilar kolliderat.\n",
      "\n",
      "2017-11-07 20:40, Trafikolycka, Göteborg: I korsningen Skånegatan-Ullevigatan har två bilar kolliderat\n",
      "\n",
      "Hittade 5 resultat.\n"
     ]
    }
   ],
   "source": [
    "# En variabel som visar antalet sökresultat.\n",
    "search_results = 0\n",
    "\n",
    "# Visa bara trafikolyckor.\n",
    "for item in rss_items:\n",
    "    title = item.find(\"title\").get_text()\n",
    "    description = item.find(\"description\").get_text()\n",
    "\n",
    "    # Gör om texten till gemener, sök därefter efter trafikolyckor i Göteborg.\n",
    "    if title.lower().find(\"trafikolycka\") > -1 and title.lower().find(\"göteborg\") > -1:\n",
    "        search_results = search_results + 1\n",
    "        print(title + \": \" + description)\n",
    "        print()\n",
    "\n",
    "print(\"Hittade {0} resultat.\".format(search_results))"
   ]
  },
  {
   "cell_type": "code",
   "execution_count": 7,
   "metadata": {
    "collapsed": false,
    "scrolled": false
   },
   "outputs": [
    {
     "name": "stdout",
     "output_type": "stream",
     "text": [
      "2017-11-09 11:52 Göteborg, Arbetsplatsolycka: En man har skadats inne på en däckfirma.\n",
      "2017-11-08 20:30 Göteborg, Brand: Lägenhetsbrand i Gårdsten\n",
      "2017-11-08 14:07 Göteborg, Trafikolycka: På Backavägen vid Leråkersmotet har två bilar kolliderat.\n",
      "2017-11-08 11:52 Borås, Brand: Lägenhetsbrand på Trandaredsgatan.\n",
      "2017-11-08 10:33 Göteborg, Rån övrigt: I Lövgärdets centrum har två personer tilltvingat sig en blå lastbil från Postnord.\n",
      "2017-11-08 07:58 Göteborg, Trafikolycka: På Tunnlandsgatan har en fotgängare blivit påkörd av en bilist.\n",
      "2017-11-08 06:52 Göteborg, Trafikolycka: På Lillhagsvägen har en man kört omkull med sin moped.\n",
      "2017-11-08 06:40 Göteborg, Trafikolycka: På Rävebergsvägen har två bilar kolliderat.\n",
      "2017-11-07 20:40 Göteborg, Trafikolycka: I korsningen Skånegatan-Ullevigatan har två bilar kolliderat\n"
     ]
    }
   ],
   "source": [
    "# Gå igenom varje händelse och plocka ut datum, händelse och stad.\n",
    "for item in rss_items:\n",
    "    title = item.find(\"title\").get_text()             # Titel på händelsen\n",
    "    link = item.find(\"link\").get_text()               # Länk till händelsen på polisens hemsida\n",
    "    description = item.find(\"description\").get_text() # Beskrivning av händelsen\n",
    "    \n",
    "    # Titlarna är skrivna i formatet \"2017-11-07 20:40, Trafikolycka, Göteborg\".\n",
    "    # Då kan vi dela upp titeln i tre delar genom komma-tecknet\n",
    "    # och på så vis plocka ut datum, händelse och ort.\n",
    "    title_parts = title.split(\",\")                         # Dela sträng vid varje komma\n",
    "    title_date = title_parts[0].strip()                    # Datum\n",
    "    title_event = title_parts[1].strip()                   # Händelse\n",
    "    title_city = title_parts[len(title_parts) - 1].strip() # Stad\n",
    "    \n",
    "    # Plocka ut händelser från Göteborg och Borås.\n",
    "    if title_city in [\"Göteborg\", \"Borås\"]:\n",
    "        print(title_date + \" \" + title_city + \", \" + title_event + \": \" + description)"
   ]
  },
  {
   "cell_type": "markdown",
   "metadata": {},
   "source": [
    "## 2. Skrapa polisens händelser från webbsidans HTML-kod\n",
    "\n",
    "Webbsida: https://polisen.se/Aktuellt/Handelser/Handelser-i-hela-landet/ (notera att det finns händelser på flera sidor!)"
   ]
  },
  {
   "cell_type": "code",
   "execution_count": 8,
   "metadata": {
    "collapsed": false
   },
   "outputs": [
    {
     "name": "stdout",
     "output_type": "stream",
     "text": [
      "Hittade 6 sidor med händelser.\n"
     ]
    }
   ],
   "source": [
    "# Läs in webbsidan och spara det i variablen html_events.\n",
    "html_events = makesoup(\"https://polisen.se/Aktuellt/Handelser/Handelser-i-hela-landet/\")\n",
    "\n",
    "# Hur många sidor med händelser finns det?\n",
    "html_pages = html_events.find_all(\"\", \"pageingnumbers\")\n",
    "pages = html_pages[0].get_text().strip().split(\" \")\n",
    "print(\"Hittade \" + str(len(pages)) + \" sidor med händelser.\")"
   ]
  },
  {
   "cell_type": "code",
   "execution_count": 9,
   "metadata": {
    "collapsed": false
   },
   "outputs": [
    {
     "name": "stdout",
     "output_type": "stream",
     "text": [
      "Skrapar sida 1: https://polisen.se/Aktuellt/Handelser/Handelser-i-hela-landet/?p=1\n",
      "Skrapar sida 2: https://polisen.se/Aktuellt/Handelser/Handelser-i-hela-landet/?p=2\n",
      "Skrapar sida 3: https://polisen.se/Aktuellt/Handelser/Handelser-i-hela-landet/?p=3\n",
      "Skrapar sida 4: https://polisen.se/Aktuellt/Handelser/Handelser-i-hela-landet/?p=4\n",
      "Skrapar sida 5: https://polisen.se/Aktuellt/Handelser/Handelser-i-hela-landet/?p=5\n",
      "Skrapar sida 6: https://polisen.se/Aktuellt/Handelser/Handelser-i-hela-landet/?p=6\n",
      "Klart.\n"
     ]
    }
   ],
   "source": [
    "# Importera time för att kunna fördröja hämtningen.\n",
    "import time\n",
    "\n",
    "# Skapa en tom lista som vi ska spara händelserna i.\n",
    "combined_events = []\n",
    "\n",
    "# Gå igenom alla webbsidor.\n",
    "for i in range(1, len(pages) + 1):\n",
    "    # Visa meddelande om vad som händer och hur många sidor som har skrapats.\n",
    "    print(\"Skrapar sida \" + str(i) + \": https://polisen.se/Aktuellt/Handelser/Handelser-i-hela-landet/?p=\" + str(i))\n",
    "    \n",
    "    # Hämta HTML-kod från aktuell webbsida.\n",
    "    page_soup = makesoup(\"https://polisen.se/Aktuellt/Handelser/Handelser-i-hela-landet/?p=\" + str(i))\n",
    "    \n",
    "    # Gå igenom alla händelser på sidan.\n",
    "    for event in page_soup.find(\"ul\", \"page-list\").find_all(\"li\"):\n",
    "        \n",
    "        # Skapa ett dictionary-objekt av aktuell händelse.\n",
    "        eventdict = { \"title\": event.find(\"h3\").get_text().strip(),\n",
    "                      \"county\": event.find(\"p\").find(\"span\", \"news-date\").get_text().strip(),\n",
    "                      \"description\": event.find(\"p\").get_text().strip(),\n",
    "                      \"link\": \"https://polisen.se\" + event.find(\"h3\").find(\"a\").get(\"href\")\n",
    "                    }\n",
    "\n",
    "        # Lägg till händelse i listan.\n",
    "        combined_events.append(eventdict)\n",
    "        \n",
    "    # Lägg till 1.5 sekunders fördröjning för\n",
    "    # för att inte överbelasta polisens server.\n",
    "    time.sleep(1.5)\n",
    "\n",
    "print(\"Klart.\")"
   ]
  },
  {
   "cell_type": "code",
   "execution_count": 10,
   "metadata": {
    "collapsed": false,
    "scrolled": true
   },
   "outputs": [
    {
     "name": "stdout",
     "output_type": "stream",
     "text": [
      "Hittade 1111 händelser.\n"
     ]
    }
   ],
   "source": [
    "# Hur många händelser hittade vi totalt?\n",
    "print(\"Hittade \" + str(len(combined_events)) + \" händelser.\")"
   ]
  },
  {
   "cell_type": "code",
   "execution_count": 11,
   "metadata": {
    "collapsed": false
   },
   "outputs": [
    {
     "name": "stdout",
     "output_type": "stream",
     "text": [
      "2017-11-08 11:15, Trafikolycka, personskada, Stockholm\n",
      "2017-11-06 17:53, Trafikolycka, smitning från, Stockholm\n",
      "2017-11-06 17:00, Trafikolycka, Stockholm\n",
      "2017-11-05 12:06, Trafikolycka, personskada, Stockholm\n",
      "2017-11-03 17:10, Trafikolycka, personskada, Stockholm\n",
      "2017-11-03 08:40, Arbetsplatsolycka, Stockholm\n"
     ]
    }
   ],
   "source": [
    "# Sök efter olyckor i Stockholm.\n",
    "for event in combined_events:\n",
    "    if event[\"title\"].lower().find(\"olycka\") > -1 and event[\"title\"].lower().find(\"stockholm\") > -1:\n",
    "        print(event[\"title\"])"
   ]
  },
  {
   "cell_type": "markdown",
   "metadata": {},
   "source": [
    "### Spara händelser till fil som kan öppnas i Excel\n",
    "\n",
    "Spara datum, händelse och stad till en CSV-fil som kan öppnas i Excel."
   ]
  },
  {
   "cell_type": "code",
   "execution_count": 12,
   "metadata": {
    "collapsed": true
   },
   "outputs": [],
   "source": [
    "# Skapa en funktion som sparar händelserna till en CSV-fil som kan öppnas i Excel.\n",
    "# Filen är uppdelad i tre kolumner: datum, händelse och stad. Dessa separeras med komma-tecken.\n",
    "def savefile(filename, date, event, city):\n",
    "    text = date + \",\" + event + \",\" + city + \"\\n\"\n",
    "    f = open(filename, mode=\"a\")   # En fil kan öppnas på många sätt (w=writing, a=append, r=reading)\n",
    "    f.write(text)\n",
    "    f.close()"
   ]
  },
  {
   "cell_type": "code",
   "execution_count": 13,
   "metadata": {
    "collapsed": false,
    "scrolled": true
   },
   "outputs": [
    {
     "name": "stdout",
     "output_type": "stream",
     "text": [
      "Sparar...\n",
      "Klart.\n",
      "Sparade 1111 resultat.\n"
     ]
    }
   ],
   "source": [
    "print(\"Sparar...\")\n",
    "results = 0\n",
    "\n",
    "# Gå igenom varje händelse, rad för rad, och bearbeta texten för att spara den till en textfil.\n",
    "for event in combined_events:\n",
    "    title = event[\"title\"]               # Titel\n",
    "    description = event[\"description\"]   # Beskrivning av händelsen\n",
    "    link = event[\"link\"]                 # Länk till händelsen\n",
    "    county = event[\"county\"]             # Län\n",
    "    \n",
    "    # Titlarna är skrivna i formatet \"2017-11-07 20:40, Trafikolycka, Göteborg\".\n",
    "    # Då kan vi dela upp titeln i tre delar genom komma-tecknet.\n",
    "    title_parts = event[\"title\"].split(\",\")   # Dela händelsen efter komma-tecken\n",
    "    \n",
    "    # Eftersom det ibland finns fler än tre komma-tecken kan vi behöva\n",
    "    # hantera fel som uppstår genom try ... except.\n",
    "    \n",
    "    # Hantera fel för datum.\n",
    "    try:\n",
    "        date = title_parts[0].strip()\n",
    "    except:\n",
    "        date = \"\"\n",
    "    \n",
    "    # Hantera fel för händelser.\n",
    "    try:\n",
    "        event = title_parts[1].strip()\n",
    "    except:\n",
    "        event = \"\"\n",
    "    \n",
    "    # Hantera fel för stad.\n",
    "    try:\n",
    "        city = title_parts[len(title_parts) - 1].strip()\n",
    "    except:\n",
    "        city = \"\"\n",
    "    \n",
    "    # Sparar till filen \"polisen.csv\". Den hamnar i samma katalog som Jupyter Notebooks körs ifrån.\n",
    "    results = results + 1\n",
    "    savefile(\"polisen.csv\", date, event, city)\n",
    "    \n",
    "print(\"Klart.\")\n",
    "print(\"Sparade {0} resultat.\".format(results))"
   ]
  }
 ],
 "metadata": {
  "kernelspec": {
   "display_name": "Python 3",
   "language": "python",
   "name": "python3"
  },
  "language_info": {
   "codemirror_mode": {
    "name": "ipython",
    "version": 3
   },
   "file_extension": ".py",
   "mimetype": "text/x-python",
   "name": "python",
   "nbconvert_exporter": "python",
   "pygments_lexer": "ipython3",
   "version": "3.5.1"
  }
 },
 "nbformat": 4,
 "nbformat_minor": 2
}
