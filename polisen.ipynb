{
 "cells": [
  {
   "cell_type": "markdown",
   "metadata": {},
   "source": [
    "# Web scraping av polisens händelser\n",
    "\n",
    "En vanlig organisation som ingår i journalisternas nyhetsnät är polisen. På polisens hemsida finns en [lista över händelser i Sverige](https://polisen.se/Aktuellt/Handelser/Handelser-i-hela-landet/). Vi kan förvisso leta i denna händelselista manuellt efter något som intresserar oss, men varför inte göra det automatiskt med hjälp av Python?\n",
    "\n",
    "Vi kan lösa det på två sätt:\n",
    "\n",
    "1. **Skrapa RSS-flödet**. Skrapa polisens [RSS-flöde med händelser](https://polisen.se/Aktuellt/Handelser/Handelser-i-hela-landet/?feed=rss). Detta är lättast eftersom [RSS](https://sv.wikipedia.org/wiki/RSS) är en standard för att utbyta information på webbplatser. Då kan vi också använda koden till alla webbplatser som har RSS-flöde. Men polisens RSS-flöde är begränsat, och allt som finns på hemsidan finns inte med i RSS-flödet.\n",
    "2. **Skrapa webbsidan**. Vi skrapar webbsidans HTML-kod. Då kan vi få ned allt vi vill ha. Men om polisen ändrar sin hemsida så kan vårt program slutera fungera.\n",
    "\n",
    "Vilken ska vi välja? Vi testar båda!"
   ]
  },
  {
   "cell_type": "markdown",
   "metadata": {},
   "source": [
    "## Importera bibliotek\n",
    "\n",
    "Importera de bibliotek som behövs för att skrapa hemsidor (`BeautifulSoup4` och `lxml`)."
   ]
  },
  {
   "cell_type": "code",
   "execution_count": 3,
   "metadata": {
    "collapsed": false
   },
   "outputs": [
    {
     "name": "stdout",
     "output_type": "stream",
     "text": [
      "Requirement already satisfied: BeautifulSoup4 in c:\\users\\peter\\anaconda3\\lib\\site-packages\n",
      "Requirement already satisfied: lxml in c:\\users\\peter\\anaconda3\\lib\\site-packages\n"
     ]
    }
   ],
   "source": [
    "# Installera bibliotek. Om det inte fungerar, testa att skriva pip3 i stället.\n",
    "!pip install BeautifulSoup4\n",
    "!pip install lxml"
   ]
  },
  {
   "cell_type": "code",
   "execution_count": 4,
   "metadata": {
    "collapsed": true
   },
   "outputs": [],
   "source": [
    "# Importera bibliotek.\n",
    "import urllib.request\n",
    "from lxml import html\n",
    "from bs4 import BeautifulSoup \n",
    "\n",
    "# Funktion för stt skrapa HTML från webbsida.\n",
    "def scrapewebpage(url):\n",
    "\t# Öppna URL och hämta HTML.\n",
    "\tweb = urllib.request.urlopen(url)\n",
    "\n",
    "\t# Kontrollera att inga fel uppstod när URL öppnades.\n",
    "\tif (web.getcode() == 200):\n",
    "\t\thtml = web.read()\n",
    "\t\treturn(html)\n",
    "\telse:\n",
    "\t\tprint(\"Error %s reading %s\" % str(web.getcode()), url)\n",
    "\n",
    "# Hjälpfunktion som skrapar webbsidor och gör en soppa av allt ihop.\n",
    "def makesoup(url):\n",
    "\thtml = scrapewebpage(url)\n",
    "\treturn(BeautifulSoup(html, \"lxml-xml\"))"
   ]
  },
  {
   "cell_type": "markdown",
   "metadata": {},
   "source": [
    "## 1. Skrapa polisens händelser från RSS-flödet\n",
    "\n",
    "RSS-flöde: https://polisen.se/Aktuellt/Handelser/Handelser-i-hela-landet/?feed=rss"
   ]
  },
  {
   "cell_type": "code",
   "execution_count": 5,
   "metadata": {
    "collapsed": true
   },
   "outputs": [],
   "source": [
    "# Läs in RSS-flödet och spara det i variablen rss_events.\n",
    "rss_events = makesoup(\"https://polisen.se/Aktuellt/Handelser/Handelser-i-hela-landet/?feed=rss\")\n",
    "\n",
    "# Ta ut alla <item> från RSS-flödet.\n",
    "rss_items = rss_events.find_all(\"item\")"
   ]
  },
  {
   "cell_type": "code",
   "execution_count": 6,
   "metadata": {
    "collapsed": false
   },
   "outputs": [
    {
     "name": "stdout",
     "output_type": "stream",
     "text": [
      "Hittade 200 händelser.\n"
     ]
    }
   ],
   "source": [
    "# Hur många händelser hittade vi?\n",
    "print(\"Hittade \" + str(len(rss_items)) + \" händelser.\")"
   ]
  },
  {
   "cell_type": "code",
   "execution_count": 7,
   "metadata": {
    "collapsed": false,
    "scrolled": true
   },
   "outputs": [
    {
     "name": "stdout",
     "output_type": "stream",
     "text": [
      "2017-11-09 08:01, Trafikhinder, Umeå\n",
      "2017-11-09 07:53, Trafikolycka, Ljungby\n",
      "2017-11-09 07:48, Trafikolycka, Malmö\n",
      "2017-11-09 07:29, Trafikolycka, vilt, Umeå\n",
      "2017-11-09 07:18, Trafikolycka, vilt, Överkalix\n",
      "2017-11-09 07:04, Trafikolycka, Solna\n",
      "2017-11-09 07:00, Sammanfattning natt, Jämtland\n",
      "2017-11-09 06:59, Rån, Västerås\n",
      "2017-11-09 06:55, Vapenlagen, Motala\n",
      "2017-11-09 06:54, Trafikolycka, Lomma\n"
     ]
    }
   ],
   "source": [
    "# Visa senaste 10 händelserna. Plocka bort [0:10] för att visa alla.\n",
    "for item in rss_items[0:10]:\n",
    "    title = item.find(\"title\").get_text()\n",
    "    print(title)"
   ]
  },
  {
   "cell_type": "code",
   "execution_count": 8,
   "metadata": {
    "collapsed": false
   },
   "outputs": [
    {
     "name": "stdout",
     "output_type": "stream",
     "text": [
      "2017-11-08 20:30 Göteborg, Brand: Lägenhetsbrand i Gårdsten\n",
      "2017-11-08 14:07 Göteborg, Trafikolycka: På Backavägen vid Leråkersmotet har två bilar kolliderat.\n",
      "2017-11-08 11:52 Borås, Brand: Lägenhetsbrand på Trandaredsgatan.\n",
      "2017-11-08 10:33 Göteborg, Rån övrigt: I Lövgärdets centrum har två personer tilltvingat sig en blå lastbil från Postnord.\n",
      "2017-11-08 07:58 Göteborg, Trafikolycka: På Tunnlandsgatan har en fotgängare blivit påkörd av en bilist.\n",
      "2017-11-08 06:52 Göteborg, Trafikolycka: På Lillhagsvägen har en man kört omkull med sin moped.\n",
      "2017-11-08 06:40 Göteborg, Trafikolycka: På Rävebergsvägen har två bilar kolliderat.\n",
      "2017-11-07 20:40 Göteborg, Trafikolycka: I korsningen Skånegatan-Ullevigatan har två bilar kolliderat\n",
      "2017-11-07 15:56 Borås, Rattfylleri: Misstänkt rattfylleri på riksväg 40.\n",
      "2017-11-07 14:27 Göteborg, Trafikolycka: På Marieholmsleden är tre bilar inblandade i en olycka. \n",
      "2017-11-07 13:35 Göteborg, Brand: Brand i sprängmattor på Sisjövägen.\n"
     ]
    }
   ],
   "source": [
    "# Gå igenom varje händelse, rad för rad, och bearbeta texten.\n",
    "for item in rss_items:\n",
    "    title = item.find(\"title\").get_text()                # Titel på händelsen\n",
    "    link = item.find(\"link\").get_text()                  # Länk till händelsen på polisens hemsida\n",
    "    pubdate = item.find(\"pubdate\").get_text()            # Datum händelsen publicerades\n",
    "    description = item.find(\"description\").get_text()    # Beskrivning av händelsen\n",
    "    \n",
    "    # Titlarna är skrivna i formatet \"2017-11-07 20:40, Trafikolycka, Göteborg\".\n",
    "    # Då kan vi dela upp titeln i tre delar genom komma-tecknet\n",
    "    # och på så vis plocka ut datum, händelse och ort.\n",
    "    title_parts = title.split(\",\")                         # Dela sträng vid varje komma\n",
    "    title_date = title_parts[0].strip()                    # Datum\n",
    "    title_event = title_parts[1].strip()                   # Händelse\n",
    "    title_city = title_parts[len(title_parts) - 1].strip() # Stad\n",
    "    \n",
    "    # Vad ska vi plocka ut? Bestäm med hjälp av if-sats.\n",
    "    if title_city in [\"Göteborg\", \"Borås\"]:\n",
    "        print(title_date + \" \" + title_city + \", \" + title_event + \": \" + description)"
   ]
  },
  {
   "cell_type": "markdown",
   "metadata": {},
   "source": [
    "## 2. Skrapa polisens händelser från webbsidans HTML-kod\n",
    "\n",
    "Webbsida: https://polisen.se/Aktuellt/Handelser/Handelser-i-hela-landet/ (notera att det finns händelser på flera sidor!)"
   ]
  },
  {
   "cell_type": "code",
   "execution_count": 9,
   "metadata": {
    "collapsed": false
   },
   "outputs": [
    {
     "name": "stdout",
     "output_type": "stream",
     "text": [
      "Hittade 6 sidor med händelser.\n"
     ]
    }
   ],
   "source": [
    "# Läs in webbsidan och spara det i variablen html_events.\n",
    "html_events = makesoup(\"https://polisen.se/Aktuellt/Handelser/Handelser-i-hela-landet/\")\n",
    "\n",
    "# Hur många sidor med händelser finns det?\n",
    "html_pages = html_events.find_all(\"\", \"pageingnumbers\")\n",
    "pages = html_pages[0].get_text().strip().split(\" \")\n",
    "print(\"Hittade \" + str(len(pages)) + \" sidor med händelser.\")"
   ]
  },
  {
   "cell_type": "code",
   "execution_count": 10,
   "metadata": {
    "collapsed": false
   },
   "outputs": [
    {
     "name": "stdout",
     "output_type": "stream",
     "text": [
      "Skrapar sida 1: https://polisen.se/Aktuellt/Handelser/Handelser-i-hela-landet/?p=1\n",
      "Skrapar sida 2: https://polisen.se/Aktuellt/Handelser/Handelser-i-hela-landet/?p=2\n",
      "Skrapar sida 3: https://polisen.se/Aktuellt/Handelser/Handelser-i-hela-landet/?p=3\n",
      "Skrapar sida 4: https://polisen.se/Aktuellt/Handelser/Handelser-i-hela-landet/?p=4\n",
      "Skrapar sida 5: https://polisen.se/Aktuellt/Handelser/Handelser-i-hela-landet/?p=5\n",
      "Skrapar sida 6: https://polisen.se/Aktuellt/Handelser/Handelser-i-hela-landet/?p=6\n",
      "Klart.\n"
     ]
    }
   ],
   "source": [
    "# Importera time för att kunna fördröja hämtningen.\n",
    "import time\n",
    "\n",
    "# Skapa en tom lista som vi ska spara händelserna i.\n",
    "combined_events = []\n",
    "\n",
    "# Gå igenom alla webbsidor.\n",
    "for i in range(1, len(pages) + 1):\n",
    "    # Visa meddelande om vad som händer och hur många sidor som har skrapats.\n",
    "    print(\"Skrapar sida \" + str(i) + \": https://polisen.se/Aktuellt/Handelser/Handelser-i-hela-landet/?p=\" + str(i))\n",
    "    \n",
    "    # Hämta HTML-kod från aktuell webbsida.\n",
    "    page_soup = makesoup(\"https://polisen.se/Aktuellt/Handelser/Handelser-i-hela-landet/?p=\" + str(i))\n",
    "    \n",
    "    # Gå igenom alla händelser på sidan.\n",
    "    for event in page_soup.find(\"ul\", \"page-list\").find_all(\"li\"):\n",
    "        \n",
    "        # Skapa ett dictionary-objekt av aktuell händelse.\n",
    "        eventdict = { \"title\": event.find(\"h3\").get_text().strip(),\n",
    "                      \"county\": event.find(\"p\").find(\"span\", \"news-date\").get_text().strip(),\n",
    "                      \"description\": event.find(\"p\").get_text().strip(),\n",
    "                      \"link\": \"https://polisen.se\" + event.find(\"h3\").find(\"a\").get(\"href\")\n",
    "                    }\n",
    "\n",
    "        # Lägg till händelse i listan.\n",
    "        combined_events.append(eventdict)\n",
    "        \n",
    "    # Lägg till 1.5 sekunders fördröjning för\n",
    "    # för att inte överbelasta polisens server.\n",
    "    time.sleep(1.5)\n",
    "\n",
    "print(\"Klart.\")"
   ]
  },
  {
   "cell_type": "code",
   "execution_count": 11,
   "metadata": {
    "collapsed": false,
    "scrolled": true
   },
   "outputs": [
    {
     "name": "stdout",
     "output_type": "stream",
     "text": [
      "Hittade 1110 händelser.\n"
     ]
    }
   ],
   "source": [
    "# Hur många händelser hittade vi totalt?\n",
    "print(\"Hittade \" + str(len(combined_events)) + \" händelser.\")"
   ]
  },
  {
   "cell_type": "code",
   "execution_count": 12,
   "metadata": {
    "collapsed": false
   },
   "outputs": [
    {
     "name": "stdout",
     "output_type": "stream",
     "text": [
      "2017-11-09 08:01, Trafikhinder, Umeå\n",
      "2017-11-09 07:53, Trafikolycka, Ljungby\n",
      "2017-11-09 07:48, Trafikolycka, Malmö\n",
      "2017-11-09 07:29, Trafikolycka, vilt, Umeå\n",
      "2017-11-09 07:18, Trafikolycka, vilt, Överkalix\n",
      "2017-11-09 07:04, Trafikolycka, Solna\n",
      "2017-11-09 07:00, Sammanfattning natt, Jämtland\n",
      "2017-11-09 06:59, Rån, Västerås\n",
      "2017-11-09 06:58, Stöld/inbrott, Kalix\n",
      "2017-11-09 06:55, Vapenlagen, Motala\n"
     ]
    }
   ],
   "source": [
    "# Visa de 10 senaste händelserna. Plocka bort [0:10] för att visa alla.\n",
    "for event in combined_events[0:10]:\n",
    "    print(event[\"title\"])"
   ]
  },
  {
   "cell_type": "code",
   "execution_count": 13,
   "metadata": {
    "collapsed": false,
    "scrolled": false
   },
   "outputs": [
    {
     "name": "stdout",
     "output_type": "stream",
     "text": [
      "2017-11-08 Göteborg, Rån\n",
      "https://polisen.se/Aktuellt/Handelser/Vastra-Gotaland/2017-11-08-1033-Ran-ovrigt-Goteborg/\n",
      "\n",
      "2017-11-07 Stockholm, Rån\n",
      "https://polisen.se/Aktuellt/Handelser/Stockholms-lan/2017-11-07-1909-Ran-ovrigt-Stockholm/\n",
      "\n",
      "2017-11-06 Stockholm, Rån\n",
      "https://polisen.se/Aktuellt/Handelser/Stockholms-lan/2017-11-06-1947-Ran-ovrigt-Stockholm/\n",
      "\n"
     ]
    }
   ],
   "source": [
    "# Gå igenom varje händelse, rad för rad, och bearbeta texten.\n",
    "for event in combined_events:\n",
    "    description = event[\"description\"]   # Beskrivning av händelsen\n",
    "    link = event[\"link\"]                 # Länk till händelsen\n",
    "    county = event[\"county\"]             # Län\n",
    "    \n",
    "    # Titlarna är skrivna i formatet \"2017-11-07 20:40, Trafikolycka, Göteborg\".\n",
    "    # Då kan vi dela upp titeln i tre delar genom komma-tecknet.\n",
    "    title_parts = event[\"title\"].split(\" \")   # Dela händelsen efter komma-tecken\n",
    "    date = title_parts[0].strip()             # Datum\n",
    "    event = title_parts[2].strip()            # Händelse\n",
    "    \n",
    "    # Eftersom det ibland finns fler än tre komma-tecken kan vi behöva\n",
    "    # hantera fel som uppstår genom try ... except.\n",
    "    try:\n",
    "        city = title_parts[len(title_parts) - 1].strip()  # Stad\n",
    "    except:\n",
    "        city = \"\"\n",
    "         \n",
    "    # Vad ska vi plocka ut? Bestäm med hjälp av if-sats.\n",
    "    if city in [\"Göteborg\", \"Stockholm\"] and event in [\"Rån\", \"Inbrott\"]:\n",
    "        print(date + \" \" + city + \", \" + event)\n",
    "        print(link)\n",
    "        print()"
   ]
  }
 ],
 "metadata": {
  "kernelspec": {
   "display_name": "Python 3",
   "language": "python",
   "name": "python3"
  },
  "language_info": {
   "codemirror_mode": {
    "name": "ipython",
    "version": 3
   },
   "file_extension": ".py",
   "mimetype": "text/x-python",
   "name": "python",
   "nbconvert_exporter": "python",
   "pygments_lexer": "ipython3",
   "version": "3.5.1"
  }
 },
 "nbformat": 4,
 "nbformat_minor": 2
}
